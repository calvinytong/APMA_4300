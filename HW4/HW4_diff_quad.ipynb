{
 "cells": [
  {
   "cell_type": "code",
   "execution_count": 1,
   "metadata": {
    "collapsed": true,
    "nbgrader": {
     "grade": false,
     "grade_id": "header1",
     "locked": false,
     "solution": false
    }
   },
   "outputs": [],
   "source": [
    "%matplotlib inline\n",
    "%precision 16\n",
    "import numpy\n",
    "import matplotlib.pyplot as plt"
   ]
  },
  {
   "cell_type": "markdown",
   "metadata": {
    "nbgrader": {
     "grade": false,
     "grade_id": "header2",
     "locked": true,
     "solution": false
    }
   },
   "source": [
    "Before you turn this problem in, make sure everything runs as expected. First, restart the kernel (in the menubar, select Kernel $\\rightarrow$ Restart) and then run all cells (in the menubar, select Cell $\\rightarrow$ Run All).\n",
    "\n",
    "Make sure you fill in any place that says YOUR CODE HERE or \"YOUR ANSWER HERE\", as well as your name and collaborators below:"
   ]
  },
  {
   "cell_type": "markdown",
   "metadata": {
    "nbgrader": {
     "grade": false,
     "grade_id": "header3",
     "locked": true,
     "solution": false
    }
   },
   "source": [
    "# HW 4:  Numerical Differentiation and Quadrature"
   ]
  },
  {
   "cell_type": "markdown",
   "metadata": {
    "nbgrader": {
     "grade": false,
     "grade_id": "Q1",
     "locked": true,
     "solution": false
    }
   },
   "source": [
    "## Question 1\n",
    "\n",
    "Consider the case where we have a mixed set of values $(x, y)$ where $y = f(x)$ but still would like to find finite difference formulas.  Consider for this question the case where we know the values of $f(x)$ at $x_0 = 0, x_1 = \\Delta x, x_2 = 2 \\Delta x$, and the value of $y' = f'(x)$ at $x_0=0$ only."
   ]
  },
  {
   "cell_type": "markdown",
   "metadata": {
    "nbgrader": {
     "grade": false,
     "grade_id": "Q1-a",
     "locked": true,
     "solution": false
    }
   },
   "source": [
    "**(a)** (10) Find a finite difference approximation for the second derivative of the form\n",
    "\n",
    "$$\n",
    "    f''(0) = \\frac{\\sum^2_{i=0} w_i f(x_i)}{\\Delta x^2} + \\frac{b_0 f'_0}{\\Delta x}\n",
    "$$\n",
    "\n",
    "that is as accurate as possible in the asymptotic limit $\\Delta x \\rightarrow 0$."
   ]
  },
  {
   "cell_type": "markdown",
   "metadata": {
    "nbgrader": {
     "grade": true,
     "grade_id": "A1-a",
     "locked": false,
     "points": 10,
     "solution": true
    }
   },
   "source": [
    "Here we can approximate the values of the functions at each point $f(x_n)$, $f(x_{n+1})$, $f(x_{n+2})$ using the general taylor series.\n",
    "$$\n",
    "f(x) = f(x_n) + (x-x_n) f'(x_n) + \\frac{(x-x_n)^2}{2!}f''(x_n) + \\frac{(x-x_n) ^3}{3!}f'''(x_n) + \\frac{(x-x_n)^4}{4!}f'''(x_n) + \\mathcal{O}(\\Delta x^5)\n",
    "$$\n",
    "\n",
    "Thus we have taylor series expansions\n",
    "$$\n",
    "f(x_n) = f(x_n)\n",
    "$$\n",
    "\n",
    "$$\n",
    "f(x_{n+1}) = f(x_n) + \\Delta x f'(x_n) + \\frac{\\Delta x^2}{2!}f''(x_n) + \\frac{\\Delta x^3}{3!}f'''(x_n) + \\frac{\\Delta x^4}{4!}f'''(x_n) + \\mathcal{O}(\\Delta x^5)\n",
    "$$\n",
    "\n",
    "$$\n",
    "f(x_{n+2}) = f(x_n) + 2\\Delta x f'(x_n) + \\frac{4\\Delta x^2}{2!}f''(x_n) + \\frac{8\\Delta x^3}{3!}f'''(x_n) + \\frac{16\\Delta x^4}{4!}f'''(x_n) + \\mathcal{O}(\\Delta x^5)\n",
    "$$\n",
    "\n",
    "Then we assume our solution of form $f''(x_n) = \\frac{A(f(x_n) + Bf(x_{n+1}) + Cf(x_{n+2})}{\\Delta x^2}$ and get the following expression\n",
    "\n",
    "$$\n",
    "\\Delta x^2 (f''(x_n) + R(x_n)) = A f(x_n) + B(f(x_n) + \\Delta x f'(x_n) + \\frac{\\Delta x^2}{2!}f''(x_n) + \\frac{\\Delta x^3}{3!}f'''(x_n) + \\frac{\\Delta x^4}{4!}f'''(x_n) + \\mathcal{O}(\\Delta x^5)) + C(f(x_n) + 2\\Delta x f'(x_n) + \\frac{4\\Delta x^2}{2!}f''(x_n) + \\frac{8\\Delta x^3}{3!}f'''(x_n) + \\frac{16\\Delta x^4}{4!}f'''(x_n) + \\mathcal{O}(\\Delta x^5))\n",
    "$$\n",
    "\n",
    "We then choose A, B, C to kill off all terms except for the $f'$ and $f''$ terms until the $\\Delta x^4$ term. Since we know the value of $f'(0)$, instead of killing it like normal, we can pull the terms into their own expression and form a 4th equation that expresses coefficient $b_0$ in terms of A, B, and C. Thus we can read off the following system of equations\n",
    "\n",
    "$$\n",
    "\\begin{align}\n",
    "A + B + C &= 0 \\\\\n",
    "\\frac{1}{2}B + 2C &= 1 \\\\\n",
    "B\\frac{1}{6} + C\\frac{8}{6} &= 0 \\\\\n",
    "B + 2C &= b_0\n",
    "\\end{align}\n",
    "$$\n",
    "\n",
    "We solve this system and get our coefficients, $A = -\\frac{7}{2}$, $B=4$, $C=-\\frac{1}{2}$, then we use them to find our coefficient on our $f'$ term $b_0 = 4 + 2(-\\frac{1}{2}) = 3$\n",
    "\n",
    "Now we can read off our approximation\n",
    "$$\n",
    "    f''(0) = \\frac{\\sum^2_{i=0} w_i f(x_i)}{\\Delta x^2} + \\frac{b_0 f'_0}{\\Delta x}\n",
    "$$\n",
    "\n",
    "Where $w = [-\\frac{7}{2}, 4, -\\frac{1}{2}]$ and $b_0 = 3$\n",
    "\n",
    "And our error term, which is \n",
    "$$\n",
    "\\begin{align}\n",
    "R(x_n) &= \\frac{4\\Delta x^2}{4!}f^{(4)}(x_n) - \\frac{8 \\Delta x^2}{4!}f^{(4)}(x_n) + \\mathcal{O}(\\Delta x^3) \\\\\n",
    "R(x_n) &= -\\frac{\\Delta x^2}{6} f^{(4)}(x_n) + \\mathcal{O}(\\Delta x^3)\\\\\n",
    "R(x_n) &= \\mathcal{O}(\\Delta x^2)\n",
    "\\end{align}\n",
    "$$"
   ]
  },
  {
   "cell_type": "code",
   "execution_count": 2,
   "metadata": {},
   "outputs": [
    {
     "name": "stdout",
     "output_type": "stream",
     "text": [
      "[-3.5  4.  -0.5]\n"
     ]
    }
   ],
   "source": [
    "# Solve our system of equations using numpy.linalg.solve\n",
    "a = numpy.array([[1, 1, 1],\n",
    "               [0, 1.0/2.0, 2.0],\n",
    "               [0, 1.0/6.0, 8.0/6.0]])\n",
    "b = numpy.array([0, 1, 0])\n",
    "print numpy.linalg.solve(a, b)"
   ]
  },
  {
   "cell_type": "markdown",
   "metadata": {
    "nbgrader": {
     "grade": false,
     "grade_id": "Q1-b",
     "locked": true,
     "solution": false
    }
   },
   "source": [
    "**(b)** (10) Test the finite difference formula from part (a) on\n",
    "\n",
    "1. $\\cos \\pi x$ and\n",
    "1. $x^{5/2}$\n",
    "\n",
    "plotting the order of convergence for each."
   ]
  },
  {
   "cell_type": "code",
   "execution_count": 3,
   "metadata": {
    "nbgrader": {
     "grade": true,
     "grade_id": "A1-b",
     "locked": false,
     "points": 10,
     "solution": true
    }
   },
   "outputs": [
    {
     "data": {
      "text/plain": [
       "<matplotlib.legend.Legend at 0x7f95c4ef2b10>"
      ]
     },
     "execution_count": 3,
     "metadata": {},
     "output_type": "execute_result"
    },
    {
     "data": {
      "image/png": "[encoded data removed]",
      "text/plain": [
       "<matplotlib.figure.Figure at 0x7f95c6f94dd0>"
      ]
     },
     "metadata": {},
     "output_type": "display_data"
    }
   ],
   "source": [
    "def approx(f_x, f_prime_0):\n",
    "    \"\"\"\n",
    "    Approximate the second derivative of f\n",
    "    at x = 0 with the above formula\n",
    "\n",
    "    Parameters\n",
    "    ----------\n",
    "    f_x: numpy.ndarray\n",
    "        The values of f @ x=0, x=1, x=2\n",
    "    f_prime_0: float\n",
    "        The value of the derivative of f @ x=0\n",
    "    \n",
    "    Returns\n",
    "    -------\n",
    "    float:\n",
    "        Approximation of f'' @ x=0\n",
    "        \n",
    "    \"\"\"\n",
    "    delta_x = x[1] - x[0]\n",
    "    coef = [-7.0/2.0, 4.0, -1.0/2.0]\n",
    "    b_0 = coef[1] + 2.0 * coef[2]\n",
    "    return numpy.dot(coef, f_x) / (delta_x ** 2) + (b_0 * f_prime_0) / delta_x \n",
    "\n",
    "# function 1\n",
    "# f(x) = cos(pi*x)\n",
    "# f'(x) = -pi * sin(pi*x)\n",
    "# f''(x) = -pi^2*cos(pi*x)\n",
    "f_1 = lambda x: numpy.cos(numpy.pi * x)\n",
    "f_prime_1 = lambda x: -numpy.pi * numpy.sin(numpy.pi * x)\n",
    "f_double_prime_1 = lambda x: -numpy.pi ** 2.0 * numpy.cos(numpy.pi * x)\n",
    "\n",
    "# function 2\n",
    "# f(x) = x^(5/2)\n",
    "# f'(x) = (5/2)x^(3/2)\n",
    "# f'(x) = (15/4)x^(1/2)\n",
    "f_2 = lambda x: x ** (5.0/2.0)\n",
    "f_prime_2 = lambda x: (5.0/2.0) * x ** (3.0/2.0)\n",
    "f_double_prime_2 = lambda x: (15.0/4.0) * x ** (1.0/2.0)\n",
    "\n",
    "# Calculate Absolute Errors\n",
    "start_val = 0\n",
    "delta_x = numpy.array([10**(-n) for n in range(1, 5)]) \n",
    "errors = numpy.zeros((2, len(delta_x)))\n",
    "for idx, dx in enumerate(delta_x):\n",
    "    x = numpy.array([start_val + i * dx for i in range(3)])\n",
    "    errors[0][idx] = numpy.abs(approx(f_1(x), f_prime_1(x[0])) - f_double_prime_1(x[0]))\n",
    "    errors[1][idx] = numpy.abs(approx(f_2(x), f_prime_2(x[0])) - f_double_prime_2(x[0]))\n",
    "\n",
    "    \n",
    "order_C = lambda delta_x, error, order: numpy.exp(numpy.log(error) - order * numpy.log(delta_x))\n",
    "plt.loglog(delta_x, errors[0], 'ro', label=\"cos(pi x)\")\n",
    "plt.loglog(delta_x, errors[1], 'bo', label=\"x^(5/2)\")\n",
    "plt.loglog(delta_x, order_C(delta_x[0], errors[0][0], 2) * delta_x**2, 'r--', label=\"2nd Order\")\n",
    "plt.loglog(delta_x, order_C(delta_x[0], errors[1][0], 0.5) * delta_x**0.5, 'b--', label=\"1/2 Order\")\n",
    "plt.xlabel('dx')\n",
    "plt.ylabel('absolute error')\n",
    "plt.title('Covergence of Mixed Set of Values')\n",
    "plt.legend()"
   ]
  },
  {
   "cell_type": "markdown",
   "metadata": {
    "nbgrader": {
     "grade": false,
     "grade_id": "Q1-c",
     "locked": true,
     "solution": false
    }
   },
   "source": [
    "**(c)** (5) Explain your results from part (a) and (b) given what you know of the functions and the finite difference approximation you derived."
   ]
  },
  {
   "cell_type": "markdown",
   "metadata": {
    "nbgrader": {
     "grade": true,
     "grade_id": "A1-c",
     "locked": false,
     "points": 5,
     "solution": true
    }
   },
   "source": [
    "For this approximation we have error term\n",
    "\n",
    "$$\n",
    "R(x_n) = -\\frac{\\Delta x^2}{6} f^{(4)}(x_n)\n",
    "$$\n",
    "\n",
    "So we know that the error term is $\\mathcal{O}(\\Delta x^2)$, which indicates second order convergence. However, we can also see that it will depend heavily on the value of $f^{(4)}$. For $cos(\\pi x)$, we have $f^{(4)} = \\pi^4 cos(\\pi x)$ and $f^{(4)}(0) = \\pi^4$. Since $f^{(4)}$ is well behaved doesn't blow up about $x_n$, we expect the second order convergence to hold. For $x^{\\frac{5}{2}}$ we have $f^{(4)} = -\\frac{15}{16} x^{-\\frac{3}{2}}$, which blows up to negative infinity as $x \\rightarrow 0$. Thus we expect much slower than second order convergence as the derivative term will blow up and cause larger than expected error. \n"
   ]
  },
  {
   "cell_type": "markdown",
   "metadata": {
    "nbgrader": {
     "grade": false,
     "grade_id": "Q2",
     "locked": true,
     "solution": false
    }
   },
   "source": [
    "## Question 2 - Quadrature\n",
    "\n",
    "Consider the scaled Fresnel integrals\n",
    "\n",
    "$$I_c = \\int^1_0 \\frac{\\cos x}{\\sqrt{x}} dx~~~~\\text{and}~~~~I_s = \\int^1_0 \\frac{\\sin x}{\\sqrt{x}} dx$$\n",
    "\n",
    "which have values\n",
    "\n",
    "$$I_c = \\sqrt{2 \\pi} \\cdot C\\left(\\sqrt{\\frac{2}{\\pi}}\\right) \\approx 1.8090484758005438$$\n",
    "\n",
    "$$I_s = \\sqrt{2 \\pi} \\cdot S\\left(\\sqrt{\\frac{2}{\\pi}}\\right) \\approx 0.62053660344676231$$\n",
    "\n",
    "where the functions $C(x)$ and $S(x)$ can be evaluated by `scipy.special.fresnel`."
   ]
  },
  {
   "cell_type": "markdown",
   "metadata": {
    "nbgrader": {
     "grade": false,
     "grade_id": "Q2-a",
     "locked": true,
     "solution": false
    }
   },
   "source": [
    "**(a)** (10) Write a function that computes both integrals using the  trapezoidal rule with N partitions of equal length \"ignoring\" the singularity at $x=0$ by setting integrands to 0."
   ]
  },
  {
   "cell_type": "code",
   "execution_count": 4,
   "metadata": {
    "collapsed": true,
    "nbgrader": {
     "grade": false,
     "grade_id": "A2-a",
     "locked": false,
     "solution": true
    }
   },
   "outputs": [],
   "source": [
    "def trap_1(N):\n",
    "    \"\"\"\n",
    "    Calculate I_c and I_s using the trapazoidal rule\n",
    "    with N partition. Ignores the singularity setting\n",
    "    the integrand to 0\n",
    "    \n",
    "    Parameters\n",
    "    ----------\n",
    "    N: Int\n",
    "        The number of partitions\n",
    "        \n",
    "    Returns\n",
    "    -------\n",
    "    (Is, Ic): (float, float)\n",
    "        The values of I_c and I_s\n",
    "        \n",
    "    \"\"\"\n",
    "    f_c = lambda x: numpy.cos(x) / numpy.sqrt(x)\n",
    "    f_s = lambda x: numpy.sin(x) / numpy.sqrt(x)\n",
    "    \n",
    "    x_hat = numpy.linspace(0, 1, N + 1)\n",
    "    delta_x = x_hat[1] - x_hat[0]\n",
    "\n",
    "    Is = f_s(x_hat[-1]) * (delta_x / 2.0)\n",
    "    Ic = f_c(x_hat[-1]) * (delta_x / 2.0)\n",
    "\n",
    "    for j in range(1, N):\n",
    "        Is += f_s(x_hat[j]) * delta_x\n",
    "        Ic += f_c(x_hat[j]) * delta_x\n",
    "        \n",
    "    return Is, Ic"
   ]
  },
  {
   "cell_type": "code",
   "execution_count": 5,
   "metadata": {
    "nbgrader": {
     "grade": true,
     "grade_id": "T2-a",
     "locked": true,
     "points": 10,
     "solution": false
    }
   },
   "outputs": [
    {
     "name": "stdout",
     "output_type": "stream",
     "text": [
      "Error: 7.32497950294e-05\n",
      "Computed the integrals correctly using the trapezoidal rule only.\n"
     ]
    }
   ],
   "source": [
    "import scipy.special\n",
    "Is, Ic = scipy.special.fresnel(numpy.sqrt(2.0 / numpy.pi))\n",
    "Is *= numpy.sqrt(2.0 * numpy.pi)\n",
    "Ic *= numpy.sqrt(2.0 * numpy.pi)\n",
    "Is_hat, Ic_hat = trap_1(200)\n",
    "error = numpy.abs(Is_hat - Is)\n",
    "print \"Error: %s\" % error\n",
    "numpy.testing.assert_allclose(error, 0.0, atol=1e-4)\n",
    "print \"Computed the integrals correctly using the trapezoidal rule only.\"    "
   ]
  },
  {
   "cell_type": "markdown",
   "metadata": {
    "nbgrader": {
     "grade": false,
     "grade_id": "Q2-b",
     "locked": true,
     "solution": false
    }
   },
   "source": [
    "**(b)** (10) A weighted Newton-Cotes quadrature rule is a modification of our version of Newton-Cotes quadrature except that we also multiply by a weighting function such that\n",
    "\n",
    "$$\\int^1_0 w(x) f(x) dx = \\sum^{N}_{i=1} w_i f(x_i)$$\n",
    "\n",
    "For the weight $x^{-1/2}$ we can show that \n",
    "\n",
    "$$\\int^1_0 \\frac{f(x)}{\\sqrt{x}} dx \\approx \\frac{2}{3} (2 f(0) + f(1))$$\n",
    "\n",
    "Combining this formula with the trapezoidal rule approach above, evaluate the integrals again by using the trapezoid rule except for the partition $[0,\\Delta x]$ that involves the singularity use the above weighted Newton-Cotes rule.  Note that you will have to map the rule to the partition."
   ]
  },
  {
   "cell_type": "markdown",
   "metadata": {},
   "source": [
    "Here we make the change of variables \n",
    "$$\n",
    "t = Nx \\\\\n",
    "dt = N dx\n",
    "$$\n",
    "\n",
    "We then have\n",
    "\n",
    "$$\n",
    "\\int_0^{\\frac{1}{N}} \\frac{f(x)}{\\sqrt x}dx = \\int_0^1 \\frac{f(\\frac{t}{N})}{\\sqrt\\frac{t}{N}N}dt =\n",
    "\\frac{1}{N} \\int_0^1 \\frac{f(\\frac{t}{N})}{\\sqrt\\frac{t}{N}}dt = \\frac{2}{3N}(2(f(0) + f(1))\n",
    "$$\n",
    "\n",
    "So for our case we have\n",
    "\n",
    "$$\n",
    "I_s[0, \\Delta x] = \\frac{2}{3N}(2sin(0)  + sin \\frac{1}{N}) \\\\\n",
    "I_c[0, \\Delta x] = \\frac{2}{3N}(2cos(0) + cos \\frac{1}{N})\n",
    "$$"
   ]
  },
  {
   "cell_type": "code",
   "execution_count": 6,
   "metadata": {
    "collapsed": true,
    "nbgrader": {
     "grade": false,
     "grade_id": "A2-b",
     "locked": false,
     "solution": true
    }
   },
   "outputs": [],
   "source": [
    "def trap_wnc(N):\n",
    "    \"\"\"\n",
    "    Calculate I_c and I_s using the trapazoidal rule\n",
    "    with N partition. Approximates the singularity using \n",
    "    a newton cotes rule\n",
    "    \n",
    "    Parameters\n",
    "    ----------\n",
    "    N: Int\n",
    "        The number of partitions\n",
    "        \n",
    "    Returns\n",
    "    -------\n",
    "    (Is, Ic): (float, float)\n",
    "        The values of I_c and I_s\n",
    "        \n",
    "    \"\"\"\n",
    "    f_c = lambda x: numpy.cos(x) / numpy.sqrt(x)\n",
    "    f_s = lambda x: numpy.sin(x) / numpy.sqrt(x)\n",
    "    \n",
    "    x_hat = numpy.linspace(0, 1, N + 1)\n",
    "    delta_x = x_hat[1] - x_hat[0]\n",
    "    \n",
    "    f_s_0 = (2.0 / (3.0 * N)) * (2.0 * numpy.sin(x_hat[0] / N) + numpy.sin(x_hat[-1] / N))\n",
    "    f_c_0 = (2.0 / (3.0 * N)) * (2.0 * numpy.cos(x_hat[0] / N) + numpy.cos(x_hat[-1] / N))\n",
    "\n",
    "    Is = f_s_0 + (f_s(x_hat[-1]) * (delta_x / 2.0))\n",
    "    Ic = f_c_0 + (f_c(x_hat[-1]) * (delta_x / 2.0))\n",
    "\n",
    "    for j in range(1, N):\n",
    "        Is += f_s(x_hat[j]) * delta_x\n",
    "        Ic += f_c(x_hat[j]) * delta_x\n",
    "    return Is, Ic"
   ]
  },
  {
   "cell_type": "code",
   "execution_count": 7,
   "metadata": {
    "nbgrader": {
     "grade": true,
     "grade_id": "T2-b",
     "locked": true,
     "points": 10,
     "solution": false
    },
    "scrolled": true
   },
   "outputs": [
    {
     "name": "stdout",
     "output_type": "stream",
     "text": [
      "Error: 5.65831978071e-05\n",
      "Computed the integrals correctly using the trapezoidal and Newton-Cotes rules.\n"
     ]
    }
   ],
   "source": [
    "import scipy.special\n",
    "Is, Ic = scipy.special.fresnel(numpy.sqrt(2.0 / numpy.pi))\n",
    "Is *= numpy.sqrt(2.0 * numpy.pi)\n",
    "Ic *= numpy.sqrt(2.0 * numpy.pi)\n",
    "Is_hat, Ic_hat = trap_wnc(200)\n",
    "error = numpy.abs(Is_hat - Is)\n",
    "print \"Error: %s\" % error\n",
    "numpy.testing.assert_allclose(error, 0.0, atol=1e-4)\n",
    "print \"Computed the integrals correctly using the trapezoidal and Newton-Cotes rules.\"    "
   ]
  },
  {
   "cell_type": "markdown",
   "metadata": {
    "nbgrader": {
     "grade": false,
     "grade_id": "Q2-c",
     "locked": true,
     "solution": false
    }
   },
   "source": [
    "**(c)** (10) Do a change of variables $x = t^2$ and evaluate each integral using the trapezoidal rule for the entire domain."
   ]
  },
  {
   "cell_type": "markdown",
   "metadata": {},
   "source": [
    "With change of variable \n",
    "\n",
    "$$\n",
    "x = t^2 \\\\\n",
    "dx = 2tdt\n",
    "$$\n",
    "\n",
    "We get the integrals\n",
    "\n",
    "$$\n",
    "I_s = \\int_{0^2}^{1^2} \\frac{sin(t^2)}{t}2tdt = \\int_0^1 2sin(t^2)dt \\\\ \n",
    "I_c = \\int_{0^2}^{1^2} \\frac{cos(t^2)}{t}2tdt = \\int_0^1 2cos(t^2)dt \n",
    "$$"
   ]
  },
  {
   "cell_type": "code",
   "execution_count": 8,
   "metadata": {
    "collapsed": true,
    "nbgrader": {
     "grade": false,
     "grade_id": "A2-c",
     "locked": false,
     "solution": true
    }
   },
   "outputs": [],
   "source": [
    "def trap_transformed(N):\n",
    "    \"\"\"\n",
    "    Calculate I_c and I_s using the trapazoidal rule\n",
    "    with N partition. Deals with the singularity\n",
    "    by using the change of variable x=t^2\n",
    "    \n",
    "    Parameters\n",
    "    ----------\n",
    "    N: Int\n",
    "        The number of partitions\n",
    "        \n",
    "    Returns\n",
    "    -------\n",
    "    (Is, Ic): (float, float)\n",
    "        The values of I_c and I_s\n",
    "        \n",
    "    \"\"\"\n",
    "    f_c = lambda t: 2.0 * numpy.cos(t ** 2.0)\n",
    "    f_s = lambda t: 2.0 * numpy.sin(t ** 2.0)\n",
    "    \n",
    "    t_hat = numpy.linspace(0, 1, N + 1)\n",
    "    delta_t = t_hat[1] - t_hat[0]\n",
    "    \n",
    "    Is = (f_s(t_hat[0]) + f_s(t_hat[-1])) * (delta_t / 2.0)\n",
    "    Ic = (f_c(t_hat[0]) + f_c(t_hat[-1])) * (delta_t / 2.0)\n",
    "\n",
    "    for j in range(1, N):\n",
    "        Is += f_s(t_hat[j]) * delta_t\n",
    "        Ic += f_c(t_hat[j]) * delta_t\n",
    "\n",
    "    return Is, Ic"
   ]
  },
  {
   "cell_type": "code",
   "execution_count": 9,
   "metadata": {
    "nbgrader": {
     "grade": true,
     "grade_id": "T2-c",
     "locked": true,
     "points": 10,
     "solution": false
    }
   },
   "outputs": [
    {
     "name": "stdout",
     "output_type": "stream",
     "text": [
      "Error: 4.50254425055e-06\n",
      "Computed the integrals correctly using the trapezoidal rule.\n"
     ]
    }
   ],
   "source": [
    "import scipy.special\n",
    "Is, Ic = scipy.special.fresnel(numpy.sqrt(2.0 / numpy.pi))\n",
    "Is *= numpy.sqrt(2.0 * numpy.pi)\n",
    "Ic *= numpy.sqrt(2.0 * numpy.pi)\n",
    "Is_hat, Ic_hat = trap_transformed(200)\n",
    "error = numpy.abs(Is_hat - Is)\n",
    "print \"Error: %s\" % error\n",
    "numpy.testing.assert_allclose(error, 0.0, atol=1e-5)\n",
    "print \"Computed the integrals correctly using the trapezoidal rule.\"    "
   ]
  },
  {
   "cell_type": "markdown",
   "metadata": {
    "nbgrader": {
     "grade": false,
     "grade_id": "Q2-d",
     "locked": true,
     "solution": false
    }
   },
   "source": [
    "**(d)** (10) Do the same as in part (c) but use 3-point Gauss-Legendre quadrature."
   ]
  },
  {
   "cell_type": "code",
   "execution_count": 10,
   "metadata": {
    "collapsed": true,
    "nbgrader": {
     "grade": false,
     "grade_id": "A2-d",
     "locked": false,
     "solution": true
    }
   },
   "outputs": [],
   "source": [
    "def gauss_legendre_3(N):\n",
    "    \"\"\"\n",
    "    Calculate I_c and I_s using 3-point.\n",
    "    Gauss-Legendre quadrature. Deals with the \n",
    "    singularity by using the change of variable x=t^2\n",
    "    \n",
    "    Parameters\n",
    "    ----------\n",
    "    N: Int\n",
    "        The number of partitions\n",
    "        \n",
    "    Returns\n",
    "    -------\n",
    "    (Is, Ic): (float, float)\n",
    "        The values of I_c and I_s\n",
    "        \n",
    "    \"\"\"\n",
    "    f_c = lambda t: 2.0 * numpy.cos(t ** 2.0)\n",
    "    f_s = lambda t: 2.0 * numpy.sin(t ** 2.0)\n",
    "    \n",
    "    t_hat = numpy.linspace(0, 1, N + 1)\n",
    "    delta_t = t_hat[1] - t_hat[0]\n",
    "\n",
    "    ti_map = lambda a,b,ti : (b - a) / 2.0 * ti + (a + b) / 2.0\n",
    "    ti = [-numpy.sqrt(3.0 / 5.0), 0.0, numpy.sqrt(3.0 / 5.0)]\n",
    "    w = [5.0 / 9.0, 8.0 / 9.0, 5.0 / 9.0]\n",
    "    \n",
    "    Is = 0.0\n",
    "    Ic = 0.0\n",
    "    for i in range(0, N):\n",
    "        for k in range(len(ti)):\n",
    "            Is += f_s(ti_map(t_hat[i], t_hat[i+1], ti[k])) * w[k]\n",
    "            Ic += f_c(ti_map(t_hat[i], t_hat[i+1], ti[k])) * w[k]\n",
    "    Is *= delta_t / 2.0\n",
    "    Ic *= delta_t / 2.0\n",
    "    \n",
    "    return Is, Ic"
   ]
  },
  {
   "cell_type": "code",
   "execution_count": 11,
   "metadata": {
    "nbgrader": {
     "grade": true,
     "grade_id": "T2-d",
     "locked": true,
     "points": 10,
     "solution": false
    }
   },
   "outputs": [
    {
     "name": "stdout",
     "output_type": "stream",
     "text": [
      "Error: 8.57062198989e-11\n",
      "Computed the integrals correctly using the trapezoidal and Newton-Cotes rules.\n"
     ]
    }
   ],
   "source": [
    "import scipy.special\n",
    "Is, Ic = scipy.special.fresnel(numpy.sqrt(2.0 / numpy.pi))\n",
    "Is *= numpy.sqrt(2.0 * numpy.pi)\n",
    "Ic *= numpy.sqrt(2.0 * numpy.pi)\n",
    "Is_hat, Ic_hat = gauss_legendre_3(10)\n",
    "error = numpy.abs(Is_hat - Is)\n",
    "print \"Error: %s\" % error\n",
    "numpy.testing.assert_allclose(error, 0.0, atol=1e-10)\n",
    "print \"Computed the integrals correctly using the trapezoidal and Newton-Cotes rules.\"    "
   ]
  },
  {
   "cell_type": "markdown",
   "metadata": {
    "nbgrader": {
     "grade": false,
     "grade_id": "Q2-e",
     "locked": true,
     "solution": false
    }
   },
   "source": [
    "**(e)** (5) Check the order of accuracy for each of the methods above and plot these on a `loglog` plot with appropriate reference lines to indicate the order of each."
   ]
  },
  {
   "cell_type": "code",
   "execution_count": 12,
   "metadata": {
    "nbgrader": {
     "grade": true,
     "grade_id": "A2-e",
     "locked": false,
     "points": 5,
     "solution": true
    }
   },
   "outputs": [
    {
     "data": {
      "image/png": "[encoded data removed]",
      "text/plain": [
       "<matplotlib.figure.Figure at 0x7f95c6fb0950>"
      ]
     },
     "metadata": {},
     "output_type": "display_data"
    }
   ],
   "source": [
    "import scipy.special\n",
    "\n",
    "num_partitions = range(50, 150, 10)\n",
    "\n",
    "# Trial results\n",
    "delta_x = numpy.empty(len(num_partitions))\n",
    "error_trap_1 = numpy.empty((2, len(num_partitions)))\n",
    "error_trap_2 = numpy.empty((2, len(num_partitions)))\n",
    "error_trap_trans = numpy.empty((2, len(num_partitions)))\n",
    "error_gauss = numpy.empty((2, len(num_partitions)))\n",
    "\n",
    "# True values of Is and Ic\n",
    "Is, Ic = scipy.special.fresnel(numpy.sqrt(2.0 / numpy.pi))\n",
    "Is *= numpy.sqrt(2.0 * numpy.pi)\n",
    "Ic *= numpy.sqrt(2.0 * numpy.pi)\n",
    "\n",
    "for (j, N) in enumerate(num_partitions):\n",
    "    \n",
    "    # Calculate delta_x for the trial\n",
    "    x_hat = numpy.linspace(0.0, 1.0, N + 1)\n",
    "    delta_x[j] = x_hat[1] - x_hat[0]\n",
    "    \n",
    "    # trap_1 trial\n",
    "    Is_hat, Ic_hat = trap_1(N)\n",
    "    error_trap_1[0, j] = numpy.abs(Is_hat - Is)\n",
    "    error_trap_1[1, j] = numpy.abs(Ic_hat - Ic)\n",
    "\n",
    "    # trap_wnc trial\n",
    "    Is_hat, Ic_hat = trap_wnc(N)\n",
    "    error_trap_2[0, j] = numpy.abs(Is_hat - Is)\n",
    "    error_trap_2[1, j] = numpy.abs(Ic_hat - Ic)\n",
    "    \n",
    "    # trap_transformed trial\n",
    "    Is_hat, Ic_hat = trap_transformed(N)\n",
    "    error_trap_trans[0, j] = numpy.abs(Is_hat - Is)\n",
    "    error_trap_trans[1, j] = numpy.abs(Ic_hat - Ic)\n",
    "    \n",
    "    # gauss legendre trial\n",
    "    Is_hat, Ic_hat = gauss_legendre_3(N)\n",
    "    error_gauss[0, j] = numpy.abs(Is_hat - Is)\n",
    "    error_gauss[1, j] = numpy.abs(Ic_hat - Ic)\n",
    "\n",
    "# Plot results\n",
    "fig = plt.figure(figsize=(15, 10))\n",
    "order_C = lambda delta_x, error, order: numpy.exp(numpy.log(error) - order * numpy.log(delta_x))\n",
    "for i in range(2):\n",
    "    axes = fig.add_subplot(1, 2, i + 1)\n",
    "    axes.loglog(delta_x, error_trap_1[i], 'ro', label=\"Trapazoid\")\n",
    "    axes.loglog(delta_x, error_trap_2[i], 'bo', label=\"Trapazoid wnc\")\n",
    "    axes.loglog(delta_x, error_trap_trans[i], 'go', label=\"Trapazoid Transformed\")\n",
    "    axes.loglog(delta_x, error_gauss[i], 'yo', label=\"Gauss Legendre 3\")\n",
    "\n",
    "    axes.loglog(delta_x, order_C(delta_x[i], error_trap_1[i][0], 2) * delta_x**2, 'r--', label=\"2nd Order\")\n",
    "    axes.loglog(delta_x, order_C(delta_x[i], error_trap_2[i][0], 2) * delta_x**2, 'b--', label=\"2nd Order\")\n",
    "    axes.loglog(delta_x, order_C(delta_x[i], error_trap_trans[i][0], 2) * delta_x**2, 'g--', label=\"2nd Order\")\n",
    "    axes.loglog(delta_x, order_C(delta_x[i], error_gauss[i][0], 5) * delta_x**5, 'y--', label=\"5th Order\")\n",
    "\n",
    "    axes.legend()\n",
    "    axes.set_ylabel(\"error\")\n",
    "    axes.set_xlabel(\"delta x\")\n",
    "    axes.set_title(\"I_s\")"
   ]
  },
  {
   "cell_type": "markdown",
   "metadata": {
    "nbgrader": {
     "grade": false,
     "grade_id": "Q2-f",
     "locked": true,
     "solution": false
    }
   },
   "source": [
    "**(f)** (5) Comment on the results of this question and the vast differences in convergence rates even between the two integrations (why is $I_c$ less accurate than $I_s$)."
   ]
  },
  {
   "cell_type": "markdown",
   "metadata": {
    "nbgrader": {
     "grade": true,
     "grade_id": "A2-f",
     "locked": false,
     "points": 5,
     "solution": true
    }
   },
   "source": [
    "By examining the plots of $I_c$ and $I_s$, it is clear that they both have singularities at the origin, but as $x \\rightarrow 0$, $I_c \\rightarrow \\infty$ while  $I_s \\rightarrow 0$. From here we see that it is much easier to approximate the first partition for $I_s$ because we can just choose a value close to 0 and not be too far off. When we don't have the singularities, the integral convergence rates are roughly equal. "
   ]
  },
  {
   "cell_type": "code",
   "execution_count": 13,
   "metadata": {},
   "outputs": [
    {
     "data": {
      "text/plain": [
       "<matplotlib.legend.Legend at 0x7f95c4f120d0>"
      ]
     },
     "execution_count": 13,
     "metadata": {},
     "output_type": "execute_result"
    },
    {
     "data": {
      "image/png": "[encoded data removed]",
      "text/plain": [
       "<matplotlib.figure.Figure at 0x7f95bef7f550>"
      ]
     },
     "metadata": {},
     "output_type": "display_data"
    }
   ],
   "source": [
    "x = numpy.linspace(0.01, 1, 100)\n",
    "\n",
    "I_s = lambda x: numpy.sin(x) / numpy.sqrt(x)\n",
    "I_c = lambda x: numpy.cos(x) / numpy.sqrt(x)\n",
    "\n",
    "plt.figure()\n",
    "plt.plot(x, I_s(x), label=\"I_s\")\n",
    "plt.plot(x, I_c(x), label=\"I_c\")\n",
    "plt.xlabel('x')\n",
    "plt.ylabel('y')\n",
    "plt.title('I_s and I_c')\n",
    "plt.legend()"
   ]
  },
  {
   "cell_type": "markdown",
   "metadata": {
    "nbgrader": {
     "grade": false,
     "grade_id": "Q3",
     "locked": true,
     "solution": false
    }
   },
   "source": [
    "## Question 3\n",
    "\n",
    "We can often reformulate finite difference approximations as matrix-vector products.  For the following assume that the data considered are equi-spaced points $(x_i, y_i)$, i.e. $\\Delta x$ is uniform."
   ]
  },
  {
   "cell_type": "markdown",
   "metadata": {
    "nbgrader": {
     "grade": false,
     "grade_id": "Q3-a",
     "locked": true,
     "solution": false
    }
   },
   "source": [
    "**(a)** (10) Using a second order centered finite difference approximation to the second derivative and the appropriate forward and backward difference schemes at the edges of the domain find the matrix $D$ such that multiplying a vector of $y$ values would lead to a second order approximation of the derivative for the given data."
   ]
  },
  {
   "cell_type": "markdown",
   "metadata": {
    "nbgrader": {
     "grade": true,
     "grade_id": "A3-a",
     "locked": false,
     "points": 10,
     "solution": true
    }
   },
   "source": [
    "For a second order centered finite difference appoximation of the second derivative, we have the following formula\n",
    "\n",
    "$$\n",
    "f''(x_n) = \\frac{f(x_{n+1}) - 2 f(x_n) + f(x_{n-1})}{\\Delta x^2}\n",
    "$$\n",
    "\n",
    "On the boundries we use 2nd order forward and backward differences, which are the following\n",
    "\n",
    "$$\n",
    "f''(x_0) = \\frac{(2f(x_0) - 5f(x_1)) + (4f(x_2) - f(x_3))}{\\Delta x^2} \\\\\n",
    "f''(x_n) = \\frac{(2f(x_n) - 5f(x_{n-1})) + (4f(x_{n-2}) - f(x_{n-3}))}{\\Delta x^2} \n",
    "$$\n",
    "\n",
    "We can factor out the $\\Delta x^2$ term because it will occur in all our terms. This means we are left with constant coefficients on each of our f(x) terms. Thus using the expressions above, we can set up the $N \\times N$ matrix \n",
    "\n",
    "$$\n",
    "D = \n",
    "\\frac{1}{\\Delta x ^2}\\begin{bmatrix}\n",
    "2 & -5 & 4 & -1 & \\\\\n",
    "1 & - 2 & 1  \\\\\n",
    "& 1 & - 2 & 1  \\\\\n",
    "&& 1 & - 2 & 1  \\\\\n",
    "&&& 1 & - 2 & 1  \\\\\n",
    "&&&&& \\dots \\\\\n",
    "&&&&& 1 & -2 & 1 \\\\\n",
    "&&&&-1 & 4 & -5 & 2\n",
    "\\end{bmatrix} \n",
    "$$\n",
    "\n",
    "It is clear that when we dot this matrix with our vector of y values, each of the terms in the resulting vector will have the form we spelled out above as the 0 values will exclude the unneeded terms and the non 0 values give the y values their coefficients."
   ]
  },
  {
   "cell_type": "markdown",
   "metadata": {
    "nbgrader": {
     "grade": false,
     "grade_id": "Q3-b",
     "locked": true,
     "solution": false
    }
   },
   "source": [
    "**(b)** (10) Write a function that takes in the number of data points $N$ and returns the matrix $D$.  Here assume we are on the interval $[-1, 1]$.  Note that inside your function \n",
    "$$\n",
    "    \\Delta x = \\frac{2}{N - 1}\n",
    "$$\n",
    "to match the `linspace` command.\n",
    "\n",
    "Beyond being convenient (once you construct the matrix you can apply it to any set of data) this operation is much faster than using loops."
   ]
  },
  {
   "cell_type": "code",
   "execution_count": 14,
   "metadata": {
    "collapsed": true,
    "nbgrader": {
     "grade": false,
     "grade_id": "A3-b",
     "locked": false,
     "solution": true
    }
   },
   "outputs": [],
   "source": [
    "def diff_matrix(N):\n",
    "    \"\"\"\n",
    "    Create a matrix of the above form, that \n",
    "    when multiplied against a vector of y\n",
    "    values yields a vector of approximate y'' values\n",
    "    \n",
    "    Parameters\n",
    "    ----------\n",
    "    N: int\n",
    "        The number (x, y) values we are approximating\n",
    "    \n",
    "    Returns\n",
    "    -------\n",
    "    D: numpy.ndarray\n",
    "        Matrix of the above form\n",
    "    \"\"\"\n",
    "    delta_x = 2.0 / (N - 1)\n",
    "    edge = numpy.append(numpy.array([2, -5, 4, -1]), numpy.zeros(N - 4))\n",
    "    D = numpy.zeros((N, N))\n",
    "    \n",
    "    # Create diagonal entries\n",
    "    numpy.fill_diagonal(D, -2)\n",
    "    numpy.fill_diagonal(D[1:], numpy.ones(N - 1))\n",
    "    numpy.fill_diagonal(D[:, 1:], numpy.ones(N - 1))\n",
    "    \n",
    "    # Fill in edge cases\n",
    "    D[0] = edge\n",
    "    D[-1] = edge[::-1]\n",
    "    \n",
    "    # Apply the delta_x term\n",
    "    D = D / delta_x ** 2\n",
    "    \n",
    "    return D"
   ]
  },
  {
   "cell_type": "code",
   "execution_count": 15,
   "metadata": {
    "nbgrader": {
     "grade": true,
     "grade_id": "T3-b",
     "locked": true,
     "points": 10,
     "solution": false
    }
   },
   "outputs": [
    {
     "name": "stdout",
     "output_type": "stream",
     "text": [
      "Success!\n"
     ]
    }
   ],
   "source": [
    "N = 200\n",
    "x = numpy.linspace(-1, 1, N)\n",
    "y = numpy.sin(x) * numpy.cos(x)\n",
    "numpy.testing.assert_allclose(numpy.dot(diff_matrix(N), y), -4.0 * numpy.sin(x) * numpy.cos(x), rtol=1e-2)\n",
    "print \"Success!\""
   ]
  },
  {
   "cell_type": "markdown",
   "metadata": {
    "nbgrader": {
     "grade": false,
     "grade_id": "Q3-c",
     "locked": true,
     "solution": false
    }
   },
   "source": [
    "**(c)** (5) Instead now consider the problem where we do not know the values of $y$ but did know their second derivative.  What kind of problem is this now and what is its continuous analog?"
   ]
  },
  {
   "cell_type": "markdown",
   "metadata": {
    "nbgrader": {
     "grade": true,
     "grade_id": "A3-c",
     "locked": false,
     "points": 5,
     "solution": true
    }
   },
   "source": [
    "The problem has now become, given some equally spaced x points that have been made into the basis D, find the values of the original function $f(x) = y$. This is computationally similar to an interpolation problem as we are finding basis coefficients from interpolation values. The continuous analog is anti-differentiation as we are finding f(x) given f''(x). "
   ]
  }
 ],
 "metadata": {
  "celltoolbar": "Create Assignment",
  "kernelspec": {
   "display_name": "Python 2",
   "language": "python",
   "name": "python2"
  },
  "language_info": {
   "codemirror_mode": {
    "name": "ipython",
    "version": 2
   },
   "file_extension": ".py",
   "mimetype": "text/x-python",
   "name": "python",
   "nbconvert_exporter": "python",
   "pygments_lexer": "ipython2",
   "version": "2.7.12"
  }
 },
 "nbformat": 4,
 "nbformat_minor": 1
}
