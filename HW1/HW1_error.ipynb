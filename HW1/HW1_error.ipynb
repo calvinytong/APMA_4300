{
 "cells": [
  {
   "cell_type": "code",
   "execution_count": 1,
   "metadata": {
    "collapsed": true,
    "nbgrader": {
     "grade": false,
     "grade_id": "header1",
     "locked": true,
     "solution": false
    }
   },
   "outputs": [],
   "source": [
    "%matplotlib inline\n",
    "%precision 16\n",
    "from __future__ import print_function\n",
    "import numpy\n",
    "import matplotlib.pyplot as plt"
   ]
  },
  {
   "cell_type": "markdown",
   "metadata": {
    "nbgrader": {
     "grade": false,
     "grade_id": "header2",
     "locked": true,
     "solution": false
    }
   },
   "source": [
    "Before you turn this problem in, make sure everything runs as expected. First, restart the kernel (in the menubar, select Kernel $\\rightarrow$ Restart) and then run all cells (in the menubar, select Cell $\\rightarrow$ Run All).\n",
    "\n",
    "Make sure you fill in any place that says YOUR CODE HERE or \"YOUR ANSWER HERE\", as well as your name and collaborators below:"
   ]
  },
  {
   "cell_type": "markdown",
   "metadata": {
    "nbgrader": {
     "grade": false,
     "grade_id": "header3",
     "locked": true,
     "solution": false
    }
   },
   "source": [
    "# HW 1:  Forms of Error\n",
    "\n"
   ]
  },
  {
   "cell_type": "markdown",
   "metadata": {
    "nbgrader": {
     "grade": false,
     "grade_id": "Q1",
     "locked": true,
     "schema_version": 1,
     "solution": false
    }
   },
   "source": [
    "## Question 1\n",
    "\n",
    "Consider the expression\n",
    "$$\n",
    "    f(x) = \\frac{1}{x - 1}\n",
    "$$"
   ]
  },
  {
   "cell_type": "markdown",
   "metadata": {
    "nbgrader": {
     "grade": false,
     "grade_id": "Q1-a",
     "locked": true,
     "schema_version": 1,
     "solution": false
    }
   },
   "source": [
    "**(a)** (5) Expand $f(x)$ in a Taylor series representation about $x_0 = 0$."
   ]
  },
  {
   "cell_type": "markdown",
   "metadata": {
    "nbgrader": {
     "grade": true,
     "grade_id": "A1-a",
     "locked": false,
     "points": 5,
     "schema_version": 1,
     "solution": true
    }
   },
   "source": [
    "$$\n",
    "\\begin{align}\n",
    "f &= \\frac{1}{x-1} \\\\\n",
    "f' &= -\\frac{1}{(x-1)^2} \\\\\n",
    "f'' &= \\frac{2}{(x-1)^3} \\\\\n",
    "f''' &= -\\frac{6}{(x-1)^4}\n",
    "\\end{align}\n",
    "$$\n",
    "\n",
    "$$\n",
    "\\begin{align}\n",
    "f(0) &= -1 \\\\\n",
    "f(0)' &= -1 \\\\\n",
    "f(0)'' &= -2 \\\\\n",
    "f(0)''' &= -6\n",
    "\\end{align} \n",
    "$$\n",
    "\n",
    "From here it is clear that the derivative term will always cancel the factorial to -1, so we have series\n",
    "$$\n",
    "\\begin{align}\n",
    "f(x) = -1 - x - x^2 - x^3 ... \\\\\n",
    "f(x) = \\sum_{n=0}^\\infty -x^n\t\n",
    "\\end{align}\n",
    "$$"
   ]
  },
  {
   "cell_type": "markdown",
   "metadata": {
    "nbgrader": {
     "grade": false,
     "grade_id": "Q1-b",
     "locked": true,
     "schema_version": 1,
     "solution": false
    }
   },
   "source": [
    "**(b)** (5) What is the expected operation count if we truncate the series to $N$ terms?  Simplify the power to multiplications rather than something more exotic.  Stating the answer in terms of big-O notation is fine."
   ]
  },
  {
   "cell_type": "markdown",
   "metadata": {
    "nbgrader": {
     "grade": true,
     "grade_id": "A1-b",
     "locked": false,
     "points": 5,
     "schema_version": 1,
     "solution": true
    }
   },
   "source": [
    "$$\n",
    "\\mathcal{O}(x^N)\n",
    "$$"
   ]
  },
  {
   "cell_type": "markdown",
   "metadata": {
    "nbgrader": {
     "grade": false,
     "grade_id": "Q1-c",
     "locked": true,
     "schema_version": 1,
     "solution": false
    }
   },
   "source": [
    "**(c)** (10) Make two plots of the relative error of the approximation vs. the true value of the function.  In the first pick a value to evaluate both functions at keeping $x_0 \\neq x$ but vary the number of terms you keep ($N$).  In the second fix $N$ and vary $x$.  Explain what you observe.  "
   ]
  },
  {
   "cell_type": "code",
   "execution_count": 8,
   "metadata": {
    "nbgrader": {
     "grade": true,
     "grade_id": "A1-c1",
     "locked": false,
     "points": 5,
     "schema_version": 1,
     "solution": true
    }
   },
   "outputs": [
    {
     "data": {
      "text/plain": [
       "[<matplotlib.lines.Line2D at 0x7fcce79a4f60>]"
      ]
     },
     "execution_count": 8,
     "metadata": {},
     "output_type": "execute_result"
    },
    {
     "data": {
      "image/png": "[encoded data removed]",
      "text/plain": [
       "<matplotlib.figure.Figure at 0x7fcce7a9c0f0>"
      ]
     },
     "metadata": {},
     "output_type": "display_data"
    },
    {
     "data": {
      "image/png": "[encoded data removed]",
      "text/plain": [
       "<matplotlib.figure.Figure at 0x7fcce7ac6438>"
      ]
     },
     "metadata": {},
     "output_type": "display_data"
    }
   ],
   "source": [
    "x = 0.5\n",
    "true_val = 1 / (x - 1)\n",
    "N_vals = list(range(100))\n",
    "approx_vals = []\n",
    "for N in N_vals:\n",
    "   approx_vals.append(sum([-x**n for n in range(N)]))\n",
    "error = numpy.abs(numpy.array(approx_vals) - true_val) / numpy.abs(true_val)\n",
    "\n",
    "plt.figure()\n",
    "plt.plot(N_vals, error)\n",
    "    \n",
    "    \n",
    "N = 100\n",
    "x_vals = numpy.linspace(-1, 1, 500)\n",
    "approx_vals = []\n",
    "for x in x_vals:\n",
    "    approx_vals.append(sum([-x**n for n in range(N)]))\n",
    "\n",
    "error = numpy.abs(numpy.array(approx_vals) - true_val) / numpy.abs(true_val)\n",
    "plt.figure()\n",
    "plt.plot(x_vals, error)\n",
    "    "
   ]
  },
  {
   "cell_type": "markdown",
   "metadata": {
    "nbgrader": {
     "grade": true,
     "grade_id": "A1-c2",
     "locked": false,
     "points": 5,
     "schema_version": 1,
     "solution": true
    }
   },
   "source": []
  },
  {
   "cell_type": "markdown",
   "metadata": {
    "nbgrader": {
     "grade": false,
     "grade_id": "Q2",
     "locked": true,
     "schema_version": 1,
     "solution": false
    }
   },
   "source": [
    "## Question 2"
   ]
  },
  {
   "cell_type": "markdown",
   "metadata": {
    "collapsed": true,
    "nbgrader": {
     "grade": false,
     "grade_id": "Q2-a",
     "locked": true,
     "solution": false
    }
   },
   "source": [
    "**(a)** (10)  Write a Python program to compute\n",
    "\n",
    "$$S_N = \\sum^N_{n=1} \\left [ \\frac{1}{n} - \\frac{1}{n+1} \\right ] = \\sum^N_{n=1} \\frac{1}{n (n + 1)}$$\n",
    "\n",
    "once using the first summation and once using the second for $N = 10, 10^2, \\ldots , 10^7$."
   ]
  },
  {
   "cell_type": "code",
   "execution_count": 26,
   "metadata": {
    "collapsed": true,
    "nbgrader": {
     "grade": false,
     "grade_id": "A2-a",
     "locked": false,
     "solution": true
    }
   },
   "outputs": [],
   "source": [
    "def sum_1(N):\n",
    "    \"\"\"Compute the summation S_N defined as\n",
    "    \n",
    "    \\sum^N_{n=1} \\left [ \\frac{1}{n} - \\frac{1}{n+1} \\right ]\n",
    "    \n",
    "    :Input:\n",
    "     *N* (int) The upper bound on the summation.\n",
    "    \n",
    "    Returns Sn (float)\n",
    "    \"\"\"\n",
    "\n",
    "    return sum([(1 / n) - (1 / (n + 1)) for n in range(1, N + 1)])\n",
    "\n",
    "\n",
    "def sum_2(N):\n",
    "    \"\"\"Compute the summation S_N defined as\n",
    "    \n",
    "    \\sum^N_{n=1} \\frac{1}{n (n + 1)}\n",
    "    \n",
    "    :Input:\n",
    "     *N* (int) The upper bound on the summation.\n",
    "    \n",
    "    Returns Sn (float)\n",
    "    \"\"\"\n",
    "    return sum([1 / (n *(n + 1)) for n in range(1, N + 1)])\n"
   ]
  },
  {
   "cell_type": "code",
   "execution_count": 27,
   "metadata": {
    "nbgrader": {
     "grade": true,
     "grade_id": "T2-a",
     "locked": true,
     "points": 10,
     "solution": false
    }
   },
   "outputs": [
    {
     "name": "stdout",
     "output_type": "stream",
     "text": [
      "Success!\n"
     ]
    }
   ],
   "source": [
    "N = numpy.array([10**n for n in range(1,8)])\n",
    "answer = numpy.zeros((2, N.shape[0]))\n",
    "for (n, upper_bound) in enumerate(N):\n",
    "    answer[0, n] = sum_1(upper_bound)\n",
    "    answer[1, n] = sum_2(upper_bound)\n",
    "numpy.testing.assert_allclose(answer[0, :], numpy.array([0.9090909090909089, 0.9900990099009896, \n",
    "                                                         0.9990009990009996, 0.9999000099990004, \n",
    "                                                         0.9999900001000117, 0.9999990000010469,\n",
    "                                                         0.9999998999998143]), atol=1e-10)\n",
    "numpy.testing.assert_allclose(answer[1, :], numpy.array([0.9090909090909091, 0.9900990099009898, \n",
    "                                                         0.9990009990009997, 0.9999000099990007, \n",
    "                                                         0.9999900001000122, 0.9999990000010476, \n",
    "                                                         0.9999998999998153]), atol=1e-10)\n",
    "print(\"Success!\")"
   ]
  },
  {
   "cell_type": "markdown",
   "metadata": {
    "nbgrader": {
     "grade": false,
     "grade_id": "Q2-b",
     "locked": true,
     "solution": false
    }
   },
   "source": [
    "**(b)** (5) Compute the absolute error between the two summation approaches."
   ]
  },
  {
   "cell_type": "code",
   "execution_count": 28,
   "metadata": {
    "collapsed": true,
    "nbgrader": {
     "grade": false,
     "grade_id": "A2-b",
     "locked": false,
     "solution": true
    }
   },
   "outputs": [],
   "source": [
    "def abs_error(N):\n",
    "    \"\"\"Compute the absolute error of the two sums defined as\n",
    "    \n",
    "    \\sum^N_{n=1} \\left [ \\frac{1}{n} - \\frac{1}{n+1} \\right ]\n",
    "    \n",
    "    and \n",
    "    \n",
    "    \\sum^N_{n=1} \\frac{1}{n (n + 1)}\n",
    "    \n",
    "    respectively for the given N.\n",
    "    \n",
    "    :Input:\n",
    "     *N* (int) The upper bound on the summation.\n",
    "    \n",
    "    Returns *error* (float)\n",
    "    \"\"\"\n",
    "    \n",
    "    return abs(sum_1 - sum_2)"
   ]
  },
  {
   "cell_type": "code",
   "execution_count": 30,
   "metadata": {
    "nbgrader": {
     "grade": true,
     "grade_id": "T2-b",
     "locked": true,
     "points": 5,
     "solution": false
    }
   },
   "outputs": [
    {
     "ename": "NameError",
     "evalue": "name 'xrange' is not defined",
     "output_type": "error",
     "traceback": [
      "\u001b[0;31m---------------------------------------------------------------------------\u001b[0m",
      "\u001b[0;31mNameError\u001b[0m                                 Traceback (most recent call last)",
      "\u001b[0;32m<ipython-input-30-f9f949d53fbc>\u001b[0m in \u001b[0;36m<module>\u001b[0;34m()\u001b[0m\n\u001b[0;32m----> 1\u001b[0;31m \u001b[0mN\u001b[0m \u001b[0;34m=\u001b[0m \u001b[0mnumpy\u001b[0m\u001b[0;34m.\u001b[0m\u001b[0marray\u001b[0m\u001b[0;34m(\u001b[0m\u001b[0;34m[\u001b[0m\u001b[0;36m10\u001b[0m\u001b[0;34m**\u001b[0m\u001b[0mn\u001b[0m \u001b[0;32mfor\u001b[0m \u001b[0mn\u001b[0m \u001b[0;32min\u001b[0m \u001b[0mxrange\u001b[0m\u001b[0;34m(\u001b[0m\u001b[0;36m1\u001b[0m\u001b[0;34m,\u001b[0m\u001b[0;36m8\u001b[0m\u001b[0;34m)\u001b[0m\u001b[0;34m]\u001b[0m\u001b[0;34m)\u001b[0m\u001b[0;34m\u001b[0m\u001b[0m\n\u001b[0m\u001b[1;32m      2\u001b[0m \u001b[0manswer\u001b[0m \u001b[0;34m=\u001b[0m \u001b[0mnumpy\u001b[0m\u001b[0;34m.\u001b[0m\u001b[0mzeros\u001b[0m\u001b[0;34m(\u001b[0m\u001b[0mN\u001b[0m\u001b[0;34m.\u001b[0m\u001b[0mshape\u001b[0m\u001b[0;34m)\u001b[0m\u001b[0;34m\u001b[0m\u001b[0m\n\u001b[1;32m      3\u001b[0m \u001b[0;32mfor\u001b[0m \u001b[0;34m(\u001b[0m\u001b[0mn\u001b[0m\u001b[0;34m,\u001b[0m \u001b[0mupper_bound\u001b[0m\u001b[0;34m)\u001b[0m \u001b[0;32min\u001b[0m \u001b[0menumerate\u001b[0m\u001b[0;34m(\u001b[0m\u001b[0mN\u001b[0m\u001b[0;34m)\u001b[0m\u001b[0;34m:\u001b[0m\u001b[0;34m\u001b[0m\u001b[0m\n\u001b[1;32m      4\u001b[0m     \u001b[0manswer\u001b[0m\u001b[0;34m[\u001b[0m\u001b[0mn\u001b[0m\u001b[0;34m]\u001b[0m \u001b[0;34m=\u001b[0m \u001b[0mabs_error\u001b[0m\u001b[0;34m(\u001b[0m\u001b[0mupper_bound\u001b[0m\u001b[0;34m)\u001b[0m\u001b[0;34m\u001b[0m\u001b[0m\n\u001b[1;32m      5\u001b[0m \u001b[0mnumpy\u001b[0m\u001b[0;34m.\u001b[0m\u001b[0mtesting\u001b[0m\u001b[0;34m.\u001b[0m\u001b[0massert_allclose\u001b[0m\u001b[0;34m(\u001b[0m\u001b[0manswer\u001b[0m\u001b[0;34m,\u001b[0m \u001b[0mnumpy\u001b[0m\u001b[0;34m.\u001b[0m\u001b[0mzeros\u001b[0m\u001b[0;34m(\u001b[0m\u001b[0manswer\u001b[0m\u001b[0;34m.\u001b[0m\u001b[0mshape\u001b[0m\u001b[0;34m)\u001b[0m\u001b[0;34m,\u001b[0m \u001b[0matol\u001b[0m\u001b[0;34m=\u001b[0m\u001b[0;36m1e-10\u001b[0m\u001b[0;34m)\u001b[0m\u001b[0;34m\u001b[0m\u001b[0m\n",
      "\u001b[0;31mNameError\u001b[0m: name 'xrange' is not defined"
     ]
    }
   ],
   "source": [
    "N = numpy.array([10**n for n in xrange(1,8)])\n",
    "answer = numpy.zeros(N.shape)\n",
    "for (n, upper_bound) in enumerate(N):\n",
    "    answer[n] = abs_error(upper_bound)\n",
    "numpy.testing.assert_allclose(answer, numpy.zeros(answer.shape), atol=1e-10)\n",
    "print(\"Success!\")"
   ]
  },
  {
   "cell_type": "markdown",
   "metadata": {
    "nbgrader": {
     "grade": false,
     "grade_id": "Q2-c",
     "locked": true,
     "points": 1,
     "solution": false
    }
   },
   "source": [
    "**(c)** (10) Plot the relative and absolute error versus $N$ up to large $N$ (above at least $10^4$).  Also plot a line where $\\epsilon_{\\text{machine}}$ should be.  Comment on what you see."
   ]
  },
  {
   "cell_type": "code",
   "execution_count": null,
   "metadata": {
    "collapsed": true,
    "nbgrader": {
     "grade": true,
     "grade_id": "A2-c",
     "locked": false,
     "points": 10,
     "solution": true
    }
   },
   "outputs": [],
   "source": [
    "fig = plt.figure()\n",
    "fig.set_figwidth(fig.get_figwidth() * 2)\n",
    "\n",
    "# HINT!  Use the plotting function semilogx to plot the errors\n",
    "#        Also, do not forget to label your plot\n",
    "\n",
    "# INSERT CODE HERE\n",
    "raise NotImplementedError(\"Replace this statement with your solution.\")\n",
    "\n",
    "plt.show()"
   ]
  },
  {
   "cell_type": "markdown",
   "metadata": {
    "nbgrader": {
     "grade": false,
     "grade_id": "Q2-d",
     "locked": true,
     "points": 1,
     "solution": false
    }
   },
   "source": [
    "**(d)** (5) Theorize what may have lead to the differences in answers."
   ]
  },
  {
   "cell_type": "markdown",
   "metadata": {
    "nbgrader": {
     "grade": true,
     "grade_id": "A2-d",
     "locked": false,
     "points": 5,
     "solution": true
    }
   },
   "source": []
  },
  {
   "cell_type": "markdown",
   "metadata": {
    "nbgrader": {
     "grade": false,
     "grade_id": "Q3_header",
     "locked": true,
     "solution": false
    }
   },
   "source": [
    "## Question 3\n",
    "\n",
    "Following our discussion in lecture regarding approximating $e^x$ again consider the Taylor polynomial approximation:\n",
    "\n",
    "$$e^x \\approx T_n(x) = 1 + x + \\frac{x^2}{2!} + \\frac{x^3}{3!} + \\cdots + \\frac{x^n}{n!}$$"
   ]
  },
  {
   "cell_type": "markdown",
   "metadata": {
    "nbgrader": {
     "grade": false,
     "grade_id": "Q3-a",
     "locked": true,
     "points": 1,
     "solution": false
    }
   },
   "source": [
    "**(a)** (10) Derive the upper bound on the *relative error* $r_n$ assuming that $0 < x$ and\n",
    "\n",
    "$$r_n = \\frac{|e^x - T_n(x)|}{|e^x|}$$\n",
    "\n",
    "is given by\n",
    "\n",
    "$$r_n \\leq \\left | \\frac{x^{n+1}}{(n + 1)!} \\right |$$"
   ]
  },
  {
   "cell_type": "markdown",
   "metadata": {
    "nbgrader": {
     "grade": true,
     "grade_id": "A3-a",
     "locked": false,
     "points": 10,
     "solution": true
    }
   },
   "source": []
  },
  {
   "cell_type": "markdown",
   "metadata": {
    "nbgrader": {
     "grade": false,
     "grade_id": "Q3-b",
     "locked": true,
     "points": 1,
     "solution": false
    }
   },
   "source": [
    "**(b)** (10) Analytically show that for large $x$ and $n$, $r_n \\leq \\epsilon_{\\text{machine}}$ implies that we need at least $n > e \\cdot x$ terms in the series (where $e = \\text{exp}(1)$).\n",
    "\n",
    "*Hint* Use Stirling's approximation $log (n!) \\approx n~log~n - n$."
   ]
  },
  {
   "cell_type": "markdown",
   "metadata": {
    "nbgrader": {
     "grade": true,
     "grade_id": "A3-b",
     "locked": false,
     "points": 10,
     "solution": true
    }
   },
   "source": []
  },
  {
   "cell_type": "markdown",
   "metadata": {
    "nbgrader": {
     "grade": false,
     "grade_id": "Q3-c1",
     "locked": true,
     "solution": false
    }
   },
   "source": [
    "**(c)** (5) Write a Python function that accurately computes $T_n$ to the specified relative error tolerance and returns both the estimate on the range and the number of terms in the series needed over the interval $[-2, 2]$.  Note that the testing tolerance will be $8 \\cdot \\epsilon_{\\text{machine}}$.\n",
    "\n",
    "Make sure to document your code including expected inputs, outputs, and assumptions being made."
   ]
  },
  {
   "cell_type": "code",
   "execution_count": null,
   "metadata": {
    "collapsed": true,
    "nbgrader": {
     "grade": false,
     "grade_id": "A3-c",
     "locked": false,
     "solution": true
    }
   },
   "outputs": [],
   "source": [
    "# HINT: Think about how we evaluated polynomials efficiently in class\n",
    "\n",
    "import scipy.misc as misc\n",
    "\n",
    "def Tn_exp(x, tolerance=1e-3):\n",
    "\n",
    "    MAX_N = 100\n",
    "    \n",
    "    # INSERT CODE HERE\n",
    "    raise NotImplementedError(\"Replace this statement with your solution.\")\n",
    "    \n",
    "    return Tn, N"
   ]
  },
  {
   "cell_type": "code",
   "execution_count": null,
   "metadata": {
    "collapsed": true,
    "nbgrader": {
     "grade": true,
     "grade_id": "T3-c",
     "locked": true,
     "points": 5,
     "solution": false
    }
   },
   "outputs": [],
   "source": [
    "x = numpy.linspace(-2, 2, 100)\n",
    "tolerance = 8.0 * numpy.finfo(float).eps\n",
    "answer, N = Tn_exp(x, tolerance=tolerance)\n",
    "assert(numpy.all(numpy.abs(answer - numpy.exp(x)) / numpy.abs(numpy.exp(x)) < tolerance))\n",
    "print(\"Success!\")"
   ]
  },
  {
   "cell_type": "markdown",
   "metadata": {
    "nbgrader": {
     "grade": false,
     "grade_id": "Q4",
     "locked": true,
     "points": 1,
     "solution": false
    }
   },
   "source": [
    "## Question 4\n",
    "\n",
    "(5) Given the Taylor polynomial expansions\n",
    "\n",
    "$$\\frac{1}{1-\\Delta x} = 1 + \\Delta x + \\Delta x^2 + \\Delta x^3 + \\mathcal{O}(\\Delta x^4)$$\n",
    "\n",
    "and\n",
    "\n",
    "$$\\sinh \\Delta x = ...$$\n",
    "\n",
    "$$\\cosh \\Delta x = 1 - \\frac{\\Delta x^2}{2!} + \\frac{\\Delta x^4}{4!} + \\mathcal{O}(\\Delta x^6)$$\n",
    "\n",
    "determine the order of approximation for their sum and product (determine the exponent that belongs in the $\\mathcal{O}$).\n"
   ]
  },
  {
   "cell_type": "markdown",
   "metadata": {
    "nbgrader": {
     "grade": true,
     "grade_id": "A4",
     "locked": false,
     "points": 5,
     "solution": true
    }
   },
   "source": []
  },
  {
   "cell_type": "markdown",
   "metadata": {
    "nbgrader": {
     "grade": false,
     "grade_id": "Q5",
     "locked": true,
     "schema_version": 1,
     "solution": false
    }
   },
   "source": [
    "## Question 5\n",
    "\n",
    "Consider the operation\n",
    "$$\\begin{aligned}\n",
    "    f(x,y) = \\frac{1}{x + y}\n",
    "\\end{aligned}$$\n",
    "for the following questions."
   ]
  },
  {
   "cell_type": "markdown",
   "metadata": {
    "nbgrader": {
     "grade": false,
     "grade_id": "Q5-a",
     "locked": true,
     "solution": false
    }
   },
   "source": [
    "**(a)** (5) Estimate the relative error due to floating point approximations to the representation of the numbers assuming exact operations."
   ]
  },
  {
   "cell_type": "markdown",
   "metadata": {
    "nbgrader": {
     "grade": true,
     "grade_id": "A5-a",
     "locked": false,
     "points": 10,
     "solution": true
    }
   },
   "source": []
  },
  {
   "cell_type": "markdown",
   "metadata": {
    "nbgrader": {
     "grade": false,
     "grade_id": "Q5-b",
     "locked": true,
     "schema_version": 1,
     "solution": false
    }
   },
   "source": [
    "**(b)** (10) Demonstrate this behavior by plotting the relative error."
   ]
  },
  {
   "cell_type": "code",
   "execution_count": null,
   "metadata": {
    "collapsed": true,
    "nbgrader": {
     "grade": true,
     "grade_id": "A5-b",
     "locked": false,
     "points": 10,
     "schema_version": 1,
     "solution": true
    }
   },
   "outputs": [],
   "source": [
    "# INSERT CODE HERE\n",
    "raise NotImplementedError(\"Replace this statement with your solution.\")"
   ]
  }
 ],
 "metadata": {
  "celltoolbar": "Create Assignment",
  "kernelspec": {
   "display_name": "Python 2",
   "language": "python",
   "name": "python2"
  },
  "language_info": {
   "codemirror_mode": {
    "name": "ipython",
    "version": 2
   },
   "file_extension": ".py",
   "mimetype": "text/x-python",
   "name": "python",
   "nbconvert_exporter": "python",
   "pygments_lexer": "ipython2",
   "version": "2.7.13"
  },
  "latex_envs": {
   "bibliofile": "biblio.bib",
   "cite_by": "apalike",
   "current_citInitial": 1,
   "eqLabelWithNumbers": true,
   "eqNumInitial": 0
  }
 },
 "nbformat": 4,
 "nbformat_minor": 1
}
