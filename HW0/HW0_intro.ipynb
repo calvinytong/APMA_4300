{
 "cells": [
  {
   "cell_type": "code",
   "execution_count": 2,
   "metadata": {
    "collapsed": false
   },
   "outputs": [
    {
     "name": "stderr",
     "output_type": "stream",
     "text": [
      "/usr/lib/python3/dist-packages/matplotlib/font_manager.py:273: UserWarning: Matplotlib is building the font cache using fc-list. This may take a moment.\n",
      "  warnings.warn('Matplotlib is building the font cache using fc-list. This may take a moment.')\n",
      "/usr/lib/python3/dist-packages/matplotlib/font_manager.py:273: UserWarning: Matplotlib is building the font cache using fc-list. This may take a moment.\n",
      "  warnings.warn('Matplotlib is building the font cache using fc-list. This may take a moment.')\n"
     ]
    }
   ],
   "source": [
    "%matplotlib inline\n",
    "%precision 16\n",
    "from __future__ import print_function\n",
    "import numpy\n",
    "import matplotlib.pyplot as plt"
   ]
  },
  {
   "cell_type": "markdown",
   "metadata": {
    "nbgrader": {
     "grade": false,
     "grade_id": "h1",
     "locked": true,
     "solution": false
    }
   },
   "source": [
    "Before you turn this problem in, make sure everything runs as expected. First, restart the kernel (in the menubar, select Kernel $\\rightarrow$ Restart) and then run all cells (in the menubar, select Cell $\\rightarrow$ Run All).\n",
    "\n",
    "Make sure you fill in any place that says YOUR CODE HERE or \"YOUR ANSWER HERE\", as well as your name and collaborators below:"
   ]
  },
  {
   "cell_type": "markdown",
   "metadata": {
    "nbgrader": {
     "grade": false,
     "grade_id": "h2",
     "locked": true,
     "solution": false
    }
   },
   "source": [
    "# Homework 0:  Introduction"
   ]
  },
  {
   "cell_type": "markdown",
   "metadata": {
    "nbgrader": {
     "grade": false,
     "grade_id": "Q1",
     "locked": true,
     "solution": false
    }
   },
   "source": [
    "## Question 1\n",
    "\n",
    "Compute the solution to the following sets of equations.  **FULLY** justify your solution (do not just write the answer).\n",
    "\n",
    "If you want to review some of these concepts check out Strang's [Linear Algebra](https://clio.columbia.edu/catalog/10612929) text or for only the fundamentals check out Strang's [The Fundamental Theorem of Linear Algebra](http://www.jstor.org/stable/2324660?seq=1#page_scan_tab_contents)"
   ]
  },
  {
   "cell_type": "markdown",
   "metadata": {
    "nbgrader": {
     "grade": false,
     "grade_id": "Q1-a",
     "locked": true,
     "solution": false
    }
   },
   "source": [
    "**(a)** (5) Solve $A x = b$ where\n",
    "$$\n",
    "    A = \\begin{bmatrix}\n",
    "        2 & 1 \\\\\n",
    "        1 & 3\n",
    "    \\end{bmatrix} ~~~~ \n",
    "    b = \\begin{bmatrix}\n",
    "        1 \\\\\n",
    "        -2\n",
    "    \\end{bmatrix}\n",
    "$$"
   ]
  },
  {
   "cell_type": "markdown",
   "metadata": {
    "nbgrader": {
     "grade": true,
     "grade_id": "A1-a",
     "locked": false,
     "points": 5,
     "solution": true
    }
   },
   "source": [
    "## Solution\n",
    "To find our solution we augment the matrix and then push it into reduced row echelon form\n",
    "\n",
    "1. Create the augmented matrix\n",
    "$\n",
    "    \\begin{bmatrix}\n",
    "        2 & 1 & 1 \\\\\n",
    "        1 & 3 & -2\n",
    "    \\end{bmatrix}\n",
    "$\n",
    "\n",
    "2. Swap the two rows\n",
    "$\n",
    "    \\begin{bmatrix}\n",
    "        1 & 3 & -2 \\\\\n",
    "        2 & 1 & 1\n",
    "    \\end{bmatrix}\n",
    "$\n",
    "3. Multiply the first row by -2 and add it to the second\n",
    "$\n",
    "    \\begin{bmatrix}\n",
    "        1 & 3 & -2 \\\\\n",
    "        0 & -5 & 5\n",
    "    \\end{bmatrix} \n",
    "$\n",
    "4. Multiply the second row by $\\frac{3}{5}$ and add it to the first\n",
    "$\n",
    "    \\begin{bmatrix}\n",
    "        1 & 0 & 1 \\\\\n",
    "        0 & -5 & 5\n",
    "    \\end{bmatrix} \n",
    "$\n",
    "5. Multiply the second row by $-\\frac{1}{5}$\n",
    "$\n",
    "    \\begin{bmatrix}\n",
    "        1 & 0 & 1 \\\\\n",
    "        0 & 1 & -1\n",
    "    \\end{bmatrix}\n",
    "$\n",
    "\n",
    "From this form we can read off the solution as $x=\\begin{bmatrix}1\\\\-1\\end{bmatrix}$ \n",
    "\n",
    "\n"
   ]
  },
  {
   "cell_type": "markdown",
   "metadata": {
    "nbgrader": {
     "grade": false,
     "grade_id": "Q1-b",
     "locked": true,
     "solution": false
    }
   },
   "source": [
    "**(b)** (5) Solve the system of equations:\n",
    "\\begin{align}\n",
    "    2x + 3y &= 1 \\\\\n",
    "    6x + 9y &= 3\n",
    "\\end{align}"
   ]
  },
  {
   "cell_type": "markdown",
   "metadata": {
    "nbgrader": {
     "grade": true,
     "grade_id": "A1-b",
     "locked": false,
     "points": 5,
     "solution": true
    }
   },
   "source": [
    "## Solution\n",
    "Here it is clear that the two equations are linearly dependant, which means we will have an infinite number of solutions. Again we push to reduced row echelon form\n",
    "\n",
    "1. Create augmented matrix\n",
    "$\n",
    "    \\begin{bmatrix}\n",
    "        2 & 3 & 1 \\\\\n",
    "        6 & 9 & 3\n",
    "    \\end{bmatrix}\n",
    "$\n",
    "\n",
    "2. Multiply the first row by $-3$ and add it to the second\n",
    "$\n",
    "    \\begin{bmatrix}\n",
    "        2 & 3 & 1 \\\\\n",
    "        0 & 0 & 0\n",
    "    \\end{bmatrix}\n",
    "$\n",
    "\n",
    "3. Divide the first row by 2\n",
    "$\n",
    "    \\begin{bmatrix}\n",
    "        1 & \\frac{3}{2} & \\frac{1}{2} \\\\\n",
    "        0 & 0 & 0\n",
    "    \\end{bmatrix}\n",
    "$\n",
    "\n",
    "From this form we can read off the relationship \n",
    "$$\n",
    "x + \\frac{3}{2}y = \\frac{1}{2}\n",
    "$$\n",
    "\n",
    "Then we can do a little algebra to write y in terms of x \n",
    "$$\n",
    "y = \\frac{1}{3} - \\frac{2}{3}x\n",
    "$$\n",
    "\n",
    "Which means we solutions can parameterize this solution introducing a new variable t and obtain our set of solutions:\n",
    "$$\n",
    "    \\begin{bmatrix}\n",
    "        x \\\\\n",
    "        y \n",
    "    \\end{bmatrix} = \n",
    "    \\begin{bmatrix}\n",
    "        0 \\\\\n",
    "        \\frac{1}{3}\n",
    "    \\end{bmatrix} +\n",
    "    t\\begin{bmatrix}\n",
    "        1 \\\\\n",
    "        \\frac{2}{3}\n",
    "    \\end{bmatrix}\n",
    "$$\n",
    "where $t \\in \\mathbb{R}$\n",
    "\n"
   ]
  },
  {
   "cell_type": "markdown",
   "metadata": {
    "nbgrader": {
     "grade": false,
     "grade_id": "Q1-c",
     "locked": true,
     "solution": false
    }
   },
   "source": [
    "**(c)** (5) Why will I not be able to solve $Ax=b$ for\n",
    "$$\n",
    "    A = \\begin{bmatrix}\n",
    "        2 & 1 \\\\\n",
    "        1 & 3 \\\\\n",
    "        0 & 4\n",
    "    \\end{bmatrix} ~~~~ \n",
    "    b = \\begin{bmatrix}\n",
    "        2 \\\\\n",
    "        0 \\\\\n",
    "        1\n",
    "    \\end{bmatrix}?\n",
    "$$\n",
    "Describe why this is a problem in terms of the column, row, left-null, and null spaces of $A$ and how that relates to the vector $b$."
   ]
  },
  {
   "cell_type": "markdown",
   "metadata": {
    "nbgrader": {
     "grade": true,
     "grade_id": "A1-c",
     "locked": false,
     "points": 5,
     "solution": true
    }
   },
   "source": [
    "The solution of an equation in the form $Ax = b$ is equivelent to finding all linear combinations of the columns that produce the b vector\n",
    "\n"
   ]
  },
  {
   "cell_type": "markdown",
   "metadata": {
    "nbgrader": {
     "grade": false,
     "grade_id": "Q2",
     "locked": true,
     "solution": false
    }
   },
   "source": [
    "## Question 2"
   ]
  },
  {
   "cell_type": "markdown",
   "metadata": {
    "nbgrader": {
     "grade": false,
     "grade_id": "Q2-a",
     "locked": true,
     "solution": false
    }
   },
   "source": [
    "**(a)** (10) Write a function that computes\n",
    "$$\n",
    "    \\sum^\\infty_{n=1} \\frac{a^n}{b^{n-1}}\n",
    "$$\n",
    "until the difference between subsequent partial sums is less than the given tolerance $T$.  Return the computed sum.  Make sure to include a way for the function to exit if the partial sums do not satisfy the above criteria (the sum may not be convergent for instance)."
   ]
  },
  {
   "cell_type": "code",
   "execution_count": 37,
   "metadata": {
    "collapsed": true,
    "nbgrader": {
     "grade": false,
     "grade_id": "A2",
     "locked": false,
     "solution": true
    }
   },
   "outputs": [],
   "source": [
    "def compute_sum(a, b, t):\n",
    "    tot = 0.0\n",
    "    n = 1\n",
    "    while True:\n",
    "        try:\n",
    "            next_term = (a ** n) / (b ** (n - 1))\n",
    "            if abs(next_term) < t:\n",
    "                break\n",
    "            tot += next_term\n",
    "            n += 1\n",
    "        except OverflowError:\n",
    "            raise ValueError\n",
    "    return tot"
   ]
  },
  {
   "cell_type": "code",
   "execution_count": 43,
   "metadata": {
    "collapsed": false,
    "nbgrader": {
     "grade": true,
     "grade_id": "T2-a",
     "locked": true,
     "points": 10,
     "solution": false
    }
   },
   "outputs": [],
   "source": [
    "numpy.testing.assert_allclose(compute_sum(-2.0, 3.0, 1e-16), -1.2)\n",
    "numpy.testing.assert_allclose(compute_sum(1.0, 2.0, 1e-16), 2.0)\n",
    "try:\n",
    "    compute_sum(2.0, 1.0, 1e-16)\n",
    "except ValueError:\n",
    "    pass\n",
    "else:\n",
    "    assert False"
   ]
  },
  {
   "cell_type": "markdown",
   "metadata": {
    "nbgrader": {
     "grade": false,
     "grade_id": "Q2-b",
     "locked": true,
     "solution": false
    }
   },
   "source": [
    "**(b)** (5) Explore different tolerances for your function above for $a=-2$ and $b=3$.  Plot the difference\n",
    "$$\n",
    "    \\left| ~ \\sum^\\infty_{n=1} \\frac{a^n}{b^{n-1}} - (-1.2) ~\\right |\n",
    "$$\n",
    "versus the value of the tolerance.  The plotting command `loglog` may be useful to effectively visualize the problem.  What do you observe?\n",
    "\n",
    "Hint:  Try using tolerances in the range $T \\in [10^{-30}, 10^{-2}]$."
   ]
  },
  {
   "cell_type": "code",
   "execution_count": 40,
   "metadata": {
    "collapsed": false,
    "nbgrader": {
     "grade": true,
     "grade_id": "A2-b1",
     "locked": false,
     "points": 4,
     "solution": true
    }
   },
   "outputs": [
    {
     "data": {
      "text/plain": [
       "<matplotlib.text.Text at 0x7f9bfe39e7f0>"
      ]
     },
     "execution_count": 40,
     "metadata": {},
     "output_type": "execute_result"
    },
    {
     "name": "stderr",
     "output_type": "stream",
     "text": [
      "/usr/lib/python3/dist-packages/matplotlib/font_manager.py:1288: UserWarning: findfont: Font family ['Humor Sans', 'Comic Sans MS', 'StayPuft'] not found. Falling back to Bitstream Vera Sans\n",
      "  (prop.get_family(), self.defaultFamily[fontext]))\n"
     ]
    },
    {
     "data": {
      "image/png": "[encoded data removed]",
      "text/plain": [
       "<matplotlib.figure.Figure at 0x7f9bfe407cc0>"
      ]
     },
     "metadata": {},
     "output_type": "display_data"
    }
   ],
   "source": [
    "tols = numpy.linspace(10e-30, 10e-2, 5000)\n",
    "vals = []\n",
    "for tol in tols:\n",
    "    vals.append(abs(compute_sum(-2, 3, tol) - (-1.2)))\n",
    "plt.figure()\n",
    "plt.plot(tols, vals)\n",
    "# plt.loglog(tols, vals)\n",
    "plt.xlabel(\"Tolerences\")\n",
    "plt.ylabel(\"Error\")\n",
    "plt.title(\"Tolerences vs Error\")"
   ]
  },
  {
   "cell_type": "markdown",
   "metadata": {
    "nbgrader": {
     "grade": true,
     "grade_id": "A2-b2",
     "locked": false,
     "points": 1,
     "solution": true
    }
   },
   "source": [
    "#\n",
    "# YOUR CODE HERE\n",
    "\n"
   ]
  },
  {
   "cell_type": "markdown",
   "metadata": {
    "nbgrader": {
     "grade": false,
     "grade_id": "Q3",
     "locked": true,
     "solution": false
    }
   },
   "source": [
    "## Question 3"
   ]
  },
  {
   "cell_type": "markdown",
   "metadata": {
    "nbgrader": {
     "grade": false,
     "grade_id": "Q3-a",
     "locked": true,
     "solution": false
    }
   },
   "source": [
    "**(a)** (7) Compute the first 3 terms of the Taylor series of the function\n",
    "$$\n",
    "    f(x) = e^{-x^2} \\sin( x - \\pi)\n",
    "$$\n",
    "centered at $x_0 = \\pi$."
   ]
  },
  {
   "cell_type": "markdown",
   "metadata": {
    "nbgrader": {
     "grade": true,
     "grade_id": "A3-a",
     "locked": false,
     "points": 7,
     "solution": true
    }
   },
   "source": [
    "## Solution\n",
    "The formula for a taylor series for a function f(x) about $x=a$ is $f(x)=\\sum_{n=0}^\\infty \\frac{f^{(n)}(a)}{n!}(x-a)^n$\n",
    "\n",
    "We start out by calculating the 1st and 2nd derivatives of our function\n",
    "\n",
    "$$\n",
    "\\begin{align}\n",
    "    f(x) &= e^{-x^2} \\sin( x - \\pi) \\\\\n",
    "    f'(x) &= e^{-x^2}(2xsin(x) - cos(x)) \\\\\n",
    "    f''(x) &= e^{-x^2}(3sin(x) + 2xcos(x)) - 2xe^{-x^2}(2xsin(x) - cos(x)))\n",
    "\\end{align}\n",
    "$$\n",
    "\n",
    "Now we plug these derivatives into the above form to obtain our 3 terms\n",
    "\n",
    "$$\n",
    "\\begin{align}\n",
    "t_0 &= e^{-\\pi^2}\\sin(\\pi - \\pi)(x - \\pi)^0 = 0 \\\\\n",
    "t_1 &= e^{-\\pi^2}(2\\pi sin(\\pi) - cos(\\pi))(x-\\pi)^1 = e^{-\\pi^2}(x-\\pi) \\\\\n",
    "t_2 &= \\frac{e^{-\\pi^2}(3sin(\\pi) + 2\\pi cos(\\pi)) - 2\\pi e^{-\\pi^2}(2\\pi sin(\\pi) - cos(\\pi)))}{2}(x-\\pi)^2 = -2\\pi e^{-\\pi^2}(x-\\pi)^2\n",
    "\\end{align}\n",
    "$$\n",
    "\n",
    "So our 2nd degree approximation of $f(x)$ about $x_0 = \\pi$ would be \n",
    "\n",
    "$$\n",
    "0+ e^{-\\pi^2}(x-\\pi) - 2\\pi e^{-\\pi^2}(x-\\pi)^2\n",
    "$$"
   ]
  },
  {
   "cell_type": "markdown",
   "metadata": {
    "nbgrader": {
     "grade": false,
     "grade_id": "Q3-b",
     "locked": true,
     "solution": false
    }
   },
   "source": [
    "**(b)** (8) Solve the ODE\n",
    "$$\n",
    "    u'' + u' + \\frac{5}{4} u = 0\n",
    "$$\n",
    "with initial conditions $u(0) = 3$ and $u'(0) = 1$.  Plot the solution and comment on its behavior as $t \\rightarrow \\infty$."
   ]
  },
  {
   "cell_type": "markdown",
   "metadata": {
    "nbgrader": {
     "grade": true,
     "grade_id": "A3-b1",
     "locked": false,
     "points": 6,
     "solution": true
    }
   },
   "source": [
    "## Solution\n",
    "Begin by factoring the charactersitic polynomial\n",
    "\n",
    "$$\n",
    "\\begin{align}\n",
    "r^2 + r + \\frac{5}{4} &= 0 \\\\\n",
    "(r - (-\\frac{1}{2} + i))(r - (-\\frac{1}{2} - i)) &= 0\n",
    "\\end{align}\n",
    "$$\n",
    "\n",
    "Since we have two distinct imaginary roots we know our general solution must be\n",
    "\n",
    "$$\n",
    "\\begin{align}\n",
    "u(t) &= e^{-\\frac{1}{2}t}(c_1cos(t) + c_2sin(t)) \n",
    "\\end{align}\n",
    "$$\n",
    "\n",
    "Next we differentiate the general solution\n",
    "\n",
    "$$\n",
    "\\begin{align}\n",
    "u(t) &= e^{-\\frac{1}{2}t}(c_1cos(t) + c_2sin(t)) \\\\\n",
    "u'(t) &= e^{-\\frac{1}{2}t}(c_2cos(t) - c_1sin(t)) - \\frac{1}{2}e^{-\\frac{1}{2}t}(c_1cos(t) + c_2sin(t)) \n",
    "\\end{align}\n",
    "$$\n",
    "\n",
    "Then we plug in our initial conditions\n",
    "$$\n",
    "\\begin{align}\n",
    "3 &= c_1 \\\\\n",
    "1 &= c_2 - \\frac{1}{2}c_1 \n",
    "\\end{align}\n",
    "$$\n",
    "\n",
    "We which trivially gives $c_1 = 3$, $c_2 = \\frac{5}{2}$\n",
    "\n",
    "Finally we plug these constants back into the original equation to find our solution\n",
    "\n",
    "$$\n",
    "\\begin{align}\n",
    "u(t) &= e^{-\\frac{1}{2}t}(3cos(t) + \\frac{5}{2}sin(t)) = \\frac{1}{2}e^{-\\frac{1}{2}t}(6cos(x) + 5sin(x))\n",
    "\\end{align}\n",
    "$$\n",
    "\n",
    "From this equation it is clear to see that as $t \\rightarrow \\infty$, $u(t) \\rightarrow 0$ because the term $e^{-\\frac{1}{2}t}$ drives the function to 0. While it is being driven to 0, the function will oscillate due to the $6cos(x) + 5sin(x)$ term."
   ]
  },
  {
   "cell_type": "code",
   "execution_count": 26,
   "metadata": {
    "collapsed": false,
    "nbgrader": {
     "grade": true,
     "grade_id": "A3-b2",
     "locked": false,
     "points": 2,
     "solution": true
    }
   },
   "outputs": [
    {
     "data": {
      "text/plain": [
       "[<matplotlib.lines.Line2D at 0x7f9bfe452d68>]"
      ]
     },
     "execution_count": 26,
     "metadata": {},
     "output_type": "execute_result"
    },
    {
     "data": {
      "image/png": "[encoded data removed]",
      "text/plain": [
       "<matplotlib.figure.Figure at 0x7f9bfe467898>"
      ]
     },
     "metadata": {},
     "output_type": "display_data"
    }
   ],
   "source": [
    "x = numpy.linspace(0, 100, 1000)\n",
    "y = 0.5 * numpy.exp(-0.5* x) * (6 * numpy.cos(x) + 5 * numpy.sin(x))\n",
    "plt.plot(x, y)"
   ]
  },
  {
   "cell_type": "markdown",
   "metadata": {
    "nbgrader": {
     "grade": false,
     "grade_id": "Q4",
     "locked": true,
     "solution": false
    }
   },
   "source": [
    "## Question 4\n",
    "\n",
    "(5) Plot something fun making sure to label the axes and colorbar if appropriate.  Use the [matplotlib gallery](http://matplotlib.org/gallery.html) for inspiration."
   ]
  },
  {
   "cell_type": "code",
   "execution_count": 28,
   "metadata": {
    "collapsed": false,
    "nbgrader": {
     "grade": true,
     "grade_id": "A4",
     "locked": false,
     "points": 5,
     "solution": true
    }
   },
   "outputs": [
    {
     "data": {
      "text/plain": [
       "<matplotlib.figure.Figure at 0x7f9bfe467a90>"
      ]
     },
     "metadata": {},
     "output_type": "display_data"
    }
   ],
   "source": [
    "plt.xkcd()\n",
    "fig = plt.figure()\n"
   ]
  },
  {
   "cell_type": "code",
   "execution_count": null,
   "metadata": {
    "collapsed": true
   },
   "outputs": [],
   "source": []
  }
 ],
 "metadata": {
  "celltoolbar": "Create Assignment",
  "kernelspec": {
   "display_name": "Python 3",
   "language": "python",
   "name": "python3"
  },
  "language_info": {
   "codemirror_mode": {
    "name": "ipython",
    "version": 3
   },
   "file_extension": ".py",
   "mimetype": "text/x-python",
   "name": "python",
   "nbconvert_exporter": "python",
   "pygments_lexer": "ipython3",
   "version": "3.5.2"
  }
 },
 "nbformat": 4,
 "nbformat_minor": 2
}
