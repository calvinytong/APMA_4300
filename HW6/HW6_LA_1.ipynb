{
 "cells": [
  {
   "cell_type": "code",
   "execution_count": 1,
   "metadata": {
    "collapsed": true,
    "nbgrader": {
     "grade": false,
     "grade_id": "header1",
     "locked": false,
     "solution": false
    }
   },
   "outputs": [],
   "source": [
    "%matplotlib inline\n",
    "%precision 16\n",
    "from __future__ import print_function\n",
    "import numpy\n",
    "import matplotlib.pyplot as plt\n",
    "import pprint\n",
    "pp = pprint.PrettyPrinter(indent=4)"
   ]
  },
  {
   "cell_type": "markdown",
   "metadata": {
    "nbgrader": {
     "grade": false,
     "grade_id": "header1",
     "locked": true,
     "solution": false
    }
   },
   "source": [
    "Before you turn this problem in, make sure everything runs as expected. First, restart the kernel (in the menubar, select Kernel $\\rightarrow$ Restart) and then run all cells (in the menubar, select Cell $\\rightarrow$ Run All).\n",
    "\n",
    "Make sure you fill in any place that says YOUR CODE HERE or \"YOUR ANSWER HERE\", as well as your name and collaborators below:"
   ]
  },
  {
   "cell_type": "markdown",
   "metadata": {
    "nbgrader": {
     "grade": false,
     "grade_id": "header2",
     "locked": true,
     "solution": false
    }
   },
   "source": [
    "# HW 6:  Linear Algebra Part 1"
   ]
  },
  {
   "cell_type": "markdown",
   "metadata": {
    "nbgrader": {
     "grade": false,
     "grade_id": "Q1",
     "locked": true,
     "solution": false
    }
   },
   "source": [
    "## Question 1\n",
    "\n",
    "Vector and matrix $p$-norms are related by various inequalities, often involving the dimensions $m$ or $n$.  For each of the following, verify the inequality and give an example of a nonzero vector or matrix (for general $m$ and $n$) for which equality is achieved.  In this problem $x \\in \\mathbb R^m$ and $A \\in \\mathbb R^{m \\times n}$."
   ]
  },
  {
   "cell_type": "markdown",
   "metadata": {
    "nbgrader": {
     "grade": false,
     "grade_id": "Q1-a",
     "locked": true,
     "solution": false
    }
   },
   "source": [
    "**(a)** (7 points) - $||x||_\\infty \\leq ||x||_2$"
   ]
  },
  {
   "cell_type": "markdown",
   "metadata": {
    "nbgrader": {
     "grade": true,
     "grade_id": "A1-a",
     "locked": false,
     "points": 7,
     "solution": true
    }
   },
   "source": [
    "$$\n",
    "||x||_\\infty^2 = \\max_i |x_i|^2 = \\max_i x_i^2 \\leq \\sum_{j=1}^m x_i^2 = ||x||_2^2\n",
    "$$\n",
    "\n",
    "Thus we have \n",
    "\n",
    "$$\n",
    "\\begin{align}\n",
    "||x||_\\infty^2 &\\leq ||x||_2^2 \\\\\n",
    "\\sqrt{||x||_\\infty^2} &\\leq \\sqrt{||x||_2^2} \\\\\n",
    "||x||_\\infty &\\leq ||x||_2^2\n",
    "\\end{align}\n",
    "$$\n",
    "\n",
    "The two norms are equal when we have two vectors with one non-zero element because then the two norms will be equal. For example, a standard basis vector of $\\mathbb{R}^m$ like $x = (x_1, x_2, x_3... x_m) = (1, 0, 0,..., 0))$ will make the norms equal.\n",
    "\n"
   ]
  },
  {
   "cell_type": "markdown",
   "metadata": {
    "nbgrader": {
     "grade": false,
     "grade_id": "Q1-b",
     "locked": true,
     "solution": false
    }
   },
   "source": [
    "**(b)** (7 points) - $||x||_2 \\leq \\sqrt{m} ||x||_\\infty$"
   ]
  },
  {
   "cell_type": "markdown",
   "metadata": {
    "nbgrader": {
     "grade": true,
     "grade_id": "A1-b",
     "locked": false,
     "points": 7,
     "solution": true
    }
   },
   "source": [
    "$$\n",
    "||x||_2^2 = \\sum_{j=1}^m x_i^2 \\leq m \\max_{1 \\leq j \\leq m} x_i^2 = m (\\max_{1 \\leq j \\leq m} x_i)^2 = m ||x||_\\infty^2\n",
    "$$\n",
    "\n",
    "Thus we have \n",
    "\n",
    "$$\n",
    "\\begin{align}\n",
    "||x||_2^2 &\\leq m ||x||_\\infty^2 \\\\\n",
    "\\sqrt{||x||_2^2} &\\leq \\sqrt{m||x||_\\infty^2} \\\\\n",
    "||x||_2 &\\leq \\sqrt{m}||x||_\\infty\n",
    "\\end{align}\n",
    "$$\n",
    "\n",
    "The two expressions are equal when we have a vector of all 1's. As in that case \n",
    "\n",
    "$$\n",
    "\\begin{align}\n",
    "\\sqrt{m}||x||_\\infty &= \\sqrt{m} \\max_i |x_i| = \\sqrt{m} \\times 1 = \\sqrt{m}\\\\\n",
    "||x||_2 &= \\sqrt{\\sum_{i=1}^m x_i} = \\sqrt{\\sum_{i=1}^m 1} = \\sqrt{m}\n",
    "\\end{align}\n",
    "$$\n",
    "So $||x||_2 = \\sqrt{m}||x||_\\infty$"
   ]
  },
  {
   "cell_type": "markdown",
   "metadata": {
    "nbgrader": {
     "grade": false,
     "grade_id": "Q1-c",
     "locked": true,
     "solution": false
    }
   },
   "source": [
    "**(c)** (7 points) - $||A||_\\infty \\leq \\sqrt{n} ||A||_2$"
   ]
  },
  {
   "cell_type": "markdown",
   "metadata": {
    "nbgrader": {
     "grade": true,
     "grade_id": "A1-c",
     "locked": false,
     "points": 7,
     "solution": true
    }
   },
   "source": [
    "We have definition of the infinity norm of a matrix \n",
    "$$\n",
    "||A||_\\infty  = \\max_{x\\neq 0} \\frac{||Ax||_\\infty}{||x||_\\infty }\n",
    "$$\n",
    "\n",
    "Where $A \\in \\mathbb{C}^{m \\times n}$, and $x \\in \\mathbb{C}^n$ (an element of the row space), so $Ax \\in \\mathbb{C}^M$. \n",
    "\n",
    "From the previous problems we have the inequalities $||x||_2 \\leq \\sqrt{n}||x||_\\infty$ where the m has changed to n because x is now in $\\mathbb{C}^m$, and $||Ax||_\\infty \\leq ||Ax||_2$. From the first inequality, we can easily see $\\frac{||x||_2}{\\sqrt{n}} \\leq ||x||_\\infty$. Now we apply these inequalities to our original expression, which yields\n",
    "\n",
    "$$\n",
    "||A||_\\infty  = \\max_{x\\neq 0} \\frac{||Ax||_\\infty}{||x||_\\infty } \\leq \\max_{x\\neq 0} \\frac{||Ax||_2}{||x||_\\infty } \\leq  \\max_{x\\neq 0} \\frac{||Ax||_2}{\\frac{||x||_2}{\\sqrt{n}}} \\leq  \\max_{x\\neq 0} \\sqrt{n}\\frac{||Ax||_2}{||x||_2} = \\sqrt{n}||A||_2\n",
    "$$\n",
    "\n",
    "So $||A||_\\infty \\leq \\sqrt{n}||A||_2$\n",
    "\n",
    "For equality, we have the following definitions for the two matrix norms: \n",
    "\n",
    "$||A||_2 = \\sqrt{\\rho(A \\cdot A)}$, where $\\rho(B) = \\max_i |\\lambda_i|$\n",
    "\n",
    "$||A||_\\infty = \\max_{1 \\leq i \\leq m}||a_i^*||_1$ where $a_i^*$ is the ith row of $A$\n",
    "\n",
    "Set $A \\in \\mathbb{C}^{m \\times n}$ to be the matrix with it's first row equal to 1 and the rest of the matrix equal to 0.\n",
    "\n",
    "Since all other rows are just 0, the row with the maximum 1-norm will be the first row, so $||A||_\\infty = ||a_1||_1 = \\sum_{k=1}^n 1 = n$\n",
    "\n",
    "For the 2-norm of the matrix, we see that $A \\cdot A$ is an $n \\times n$ matrix where all the entries are equal to 1 \n",
    "\n",
    "$$\n",
    "A \\cdot A = \n",
    "\\begin{bmatrix}\n",
    "1 & 0 & 0 & \\dots & 0 \\\\ \n",
    "1 & 0 & 0 & \\dots & 0 \\\\\n",
    "\\vdots & \\vdots & \\vdots & \\ddots & \\vdots \\\\\n",
    "1 & 0 & 0 & \\dots & 0 \\\\\n",
    "\\end{bmatrix} \n",
    "\\begin{bmatrix}\n",
    "1 & 1 & 1 & \\dots & 1 \\\\ \n",
    "0 & 0 & 0 & \\dots & 0 \\\\\n",
    "\\vdots & \\vdots & \\vdots & \\ddots & \\vdots \\\\\n",
    "0 & 0 & 0 & \\dots & 0 \\\\\n",
    "\\end{bmatrix} \n",
    "= \\begin{bmatrix}\n",
    "1 & 1 & 1 & \\dots & 1 \\\\ \n",
    "1 & 1 & 1 & \\dots & 1 \\\\\n",
    "\\vdots & \\vdots & \\vdots & \\ddots & \\vdots \\\\\n",
    "1 & 1 & 1 & \\dots & 1 \\\\ \\end{bmatrix}\n",
    "$$\n",
    "\n",
    "To find the eigenvalues, we first see that each of the rows can be written as a linear combination of the first row, so the matrix is rank 1. This means the nullity is of dimension $n-1$ by the rank-nullity theorem, and since the nullspace is defined as the eigenspace of the eigenvector 0, we know that 0 will be an eigenvalue with multiplicity of $n-1$. Thus there will only be one other eigenvalue that we must find.\n",
    "\n",
    "We look for non-zero vectors v, and scalars $\\lambda$ that satisfy the relationship $Av = \\lambda v$. Since each row of A can be written as a combination of the other rows, we can decompose the matrix into the outer product of two n-dimentional non-zero vectors x and y, $A = xy^T$. Substituting this into our equation we see $(xy^T)v = \\lambda v$. Using the associative property and the fact that we are trying to find non-zero eigenvalues so $\\lambda \\neq 0$, we can get the following expression for our eigenvector v\n",
    "\n",
    "$$\n",
    "\\begin{align}\n",
    "(xy^T)v &= \\lambda v \\\\\n",
    "x(y^Tv) &= \\lambda v \\\\\n",
    "\\frac{x(y^Tv)}{\\lambda} &= v \\\\\n",
    "x\\frac{(y^Tv)}{\\lambda} &= v \\\\\n",
    "\\end{align}\n",
    "$$\n",
    "\n",
    "Since $\\frac{(y^Tv)}{\\lambda}$ is just a scalar, we can ignore it as it will be normalized out when we solve for the eigenvalue. Thus we have $v=x$, and we can plug this result into our original equation to find our eigenvalue.\n",
    "\n",
    "$$\n",
    "\\begin{align} \\\\\n",
    "(xy^T)x &= \\lambda x \\\\\n",
    "x(y^Tx) &= \\lambda x\\\\\n",
    "x(y^Tx) - \\lambda x &= 0 \\\\\n",
    "x(y^Tx - \\lambda) &= 0 \\\\\n",
    "-x(\\lambda - y^Tx) &= 0 \\\\\n",
    "x(\\lambda - y^Tx) &= 0\n",
    "\\end{align}\n",
    "$$\n",
    "\n",
    "Since x is non-zero by definition, we see that $\\lambda = y^Tx$. This expression is a little tricky to work with because we have to find the decomposition, but since we know that x and y are related to our original matrix, we can derive an expression that only depends on A. Since $y^Tx = \\sum_i x_iy_i$, we can see that this is just summing over the diagonal entries in the matrix of the outer product $xy^T$, thus $y^Tx = Tr(xy^T)$. Since $xy^T = A$, we get the nice represention $\\lambda = Tr(A)$ for a rank 1 matrix of arbitrary dimention\n",
    "\n",
    "In this case we have $Tr(A \\cdot A) = n$, which is the maximum eigenvalue, so $||A||_2 = \\sqrt{\\rho(A \\cdot A)} = \\sqrt{n}$ and $\\sqrt{n}||A||_2 = \\sqrt{n}\\sqrt{n} = n$\n",
    "\n",
    "Thus we have equality as $||A||_\\infty = \\sqrt{n}||A||_2 = n$"
   ]
  },
  {
   "cell_type": "markdown",
   "metadata": {
    "nbgrader": {
     "grade": false,
     "grade_id": "Q1-d",
     "locked": true,
     "solution": false
    }
   },
   "source": [
    "**(d)** (7 points) - $||A||_2 \\leq \\sqrt{m} ||A||_\\infty$"
   ]
  },
  {
   "cell_type": "markdown",
   "metadata": {
    "nbgrader": {
     "grade": true,
     "grade_id": "A1-d",
     "locked": false,
     "points": 7,
     "solution": true
    }
   },
   "source": [
    "Similar to the last problem, we have the following expression for the 2-norm of matrix A\n",
    "$$\n",
    "||A||_2  = \\max_{x\\neq 0} \\frac{||Ax||_2}{||x||_2 }\n",
    "$$\n",
    "\n",
    "Where $A \\in \\mathbb{C}^{m \\times n}$, and $x \\in \\mathbb{C}^n$, $Ax \\in \\mathbb{C}^M$. \n",
    "\n",
    "As shown in the previous problems, $||Ax|| \\leq \\sqrt{m}||Ax||_\\infty$ and $||x||_\\infty \\leq ||x||_2$. Applying these inequalities to our definition of the norm we get\n",
    "\n",
    "$$\n",
    "||A||_2 = \\max_{x\\neq 0} \\frac{||Ax||_2}{||x||_2} \\leq \\max_{x\\neq 0} \\frac{\\sqrt{m}||Ax||_\\infty}{||x||_2} \\leq \\max_{x\\neq 0} \\frac{\\sqrt{m}||Ax||_\\infty}{||x||_\\infty} = \\sqrt{m}\\frac{||Ax||_\\infty}{||x||_\\infty} = \\sqrt{m}||A||_\\infty\n",
    "$$\n",
    "\n",
    "Thus\n",
    "\n",
    "$$\n",
    "||A||_2 \\leq \\sqrt{m}||A||_\\infty\n",
    "$$\n",
    "\n",
    "\n",
    "For equality, we still have the definitions of the two norms defined above\n",
    "\n",
    "Set $A \\in \\mathbb{C}^{m \\times n}$ to be the matrix with it's first column equal to 1 and the rest of the matrix equal to 0.\n",
    "\n",
    "Since all of the rows are the same, we can just take the one norm of any of the rows and find \n",
    "\n",
    "$||A||_\\infty = ||a_1||_1 = 1 + 0 + 0 + \\dots + 0 = 1$\n",
    "\n",
    "So $\\sqrt{m}||A||_\\infty = \\sqrt{m}$\n",
    "\n",
    "For the 2-norm of the matrix, we see that $A \\cdot A$ is an $n \\times n$ matrix where the entire matrix is 0 except for the first entry, which will be equal to m\n",
    "\n",
    "$$\n",
    "A \\cdot A = \n",
    "\\begin{bmatrix}\n",
    "1 & 1 & 1 & \\dots & 1 \\\\ \n",
    "0 & 0 & 0 & \\dots & 0 \\\\\n",
    "\\vdots & \\vdots & \\vdots & \\ddots & \\vdots \\\\\n",
    "0 & 0 & 0 & \\dots & 0 \\\\\n",
    "\\end{bmatrix} \n",
    "\\begin{bmatrix}\n",
    "1 & 0 & 0 & \\dots & 0 \\\\ \n",
    "1 & 0 & 0 & \\dots & 0 \\\\\n",
    "\\vdots & \\vdots & \\vdots & \\ddots & \\vdots \\\\\n",
    "1 & 0 & 0 & \\dots & 0 \\\\\n",
    "\\end{bmatrix} \n",
    "= \\begin{bmatrix}\n",
    "m & 0 & 0 & \\dots & 0 \\\\ \n",
    "0 & 0 & 0 & \\dots & 0 \\\\\n",
    "\\vdots & \\vdots & \\vdots & \\ddots & \\vdots \\\\\n",
    "0 & 0 & 0 & \\dots & 0 \\\\ \\end{bmatrix}\n",
    "$$\n",
    "\n",
    "Again this is rank 1, so we can use our result from the previous problem and find the non-zero eigenvalue $Tr(A \\cdot A) = m$. Thus, since $m \\geq 0$, as before, $||A||_2 = \\sqrt{\\rho(A \\cdot A)} = \\sqrt{m}$\n",
    "\n",
    "So we see that $||A||_2 = \\sqrt{m}||A||_\\infty = \\sqrt{m}$ and equality is acheived"
   ]
  },
  {
   "cell_type": "markdown",
   "metadata": {
    "nbgrader": {
     "grade": false,
     "grade_id": "Q2",
     "locked": true,
     "solution": false
    }
   },
   "source": [
    "## Question 2\n",
    "\n",
    "(22 points) - Write a function that computes the least-squares fit of a given polynomial order $n$ without using the function `numpy.linalg.lstsq` and `numpy.vander` (i.e. construct the system that needs to be solved yourself).  This function should return the coefficients of the resulting polynomial in accending order of powers.  If the function does not receive valid input (most notably an underconstrained system) raise a `ValueError` with an appropriate error message.  Make sure to mention this in your `doc-string`.  \n",
    "\n",
    "Also write a function that plots the resulting polynomial along with the data given the data, a set of $x$ points and the coefficients from the first function.  Make sure to label your plot (both the axes and with a legend)."
   ]
  },
  {
   "cell_type": "code",
   "execution_count": 2,
   "metadata": {
    "collapsed": true,
    "nbgrader": {
     "grade": false,
     "grade_id": "A2",
     "locked": false,
     "solution": true
    }
   },
   "outputs": [],
   "source": [
    "def compute_lstsq(data, n):\n",
    "    \"\"\"\n",
    "    Computes the least square fit of order n on given data.\n",
    "    The order must be less than the number of interpolation\n",
    "    points\n",
    "    \n",
    "    Parameters\n",
    "    ----------\n",
    "    data: numpy.ndarray\n",
    "        Data that the least fit should be applied to\n",
    "    n: int\n",
    "        Order of the fit, should be less than the number of interpolating points\n",
    "    \n",
    "    Returns\n",
    "    -------\n",
    "    p: numpy.ndarray\n",
    "        Coefficients of the least squares fit in accending order\n",
    "        \n",
    "    Raises\n",
    "    ------\n",
    "    ValueError\n",
    "        If the order requested is not less than the number of \n",
    "        interpolation points, the system is unbounded\n",
    "        and the function will return a value error\n",
    "        \n",
    "    \"\"\"\n",
    "    if not(n < data.shape[0]):\n",
    "        raise ValueError('Order should be less than number of interpolating points')\n",
    "    \n",
    "    # Construct a and b\n",
    "    A = numpy.array([data[:, 0] ** x for x in range(n + 1)]).T\n",
    "    b = data[:, 1]\n",
    "    # Find coefficients\n",
    "    p = numpy.linalg.solve(A.T @ A, A.T @ b)\n",
    "    return p\n",
    "\n",
    "\n",
    "def plot_lstsq(data, x, p):\n",
    "    \"\"\"\n",
    "    Plot the least squares fit for given data, at points x\n",
    "    with polynomial coefficients p\n",
    "    \n",
    "    Parameters\n",
    "    ----------\n",
    "    data: numpy.ndarray\n",
    "        The data to be plotted\n",
    "    x: numpy.ndarray\n",
    "        The x values to plot the fit at\n",
    "    p: numpy.ndarray\n",
    "        The polynomial coeficients of the fit in acending order\n",
    "        \n",
    "    \"\"\"\n",
    "    a = numpy.array([x[:, numpy.newaxis] ** deg for deg in range(n + 1)]).T\n",
    "    plt.figure()\n",
    "    plt.scatter(data[:, 0], data[:, 1] ,label='data points')\n",
    "    plt.plot(x, numpy.matmul(a[0], p), label='polynomial of deg ' + str(p.shape[0] - 1))\n",
    "    plt.xlabel('x')\n",
    "    plt.ylabel('y')\n",
    "    plt.legend()\n"
   ]
  },
  {
   "cell_type": "code",
   "execution_count": 3,
   "metadata": {
    "nbgrader": {
     "grade": true,
     "grade_id": "T2-a",
     "locked": true,
     "points": 8,
     "solution": false
    }
   },
   "outputs": [
    {
     "name": "stdout",
     "output_type": "stream",
     "text": [
      "Success!\n"
     ]
    },
    {
     "data": {
      "image/png": "[encoded data removed]",
      "text/plain": [
       "<matplotlib.figure.Figure at 0x7f7f5c4a7860>"
      ]
     },
     "metadata": {},
     "output_type": "display_data"
    }
   ],
   "source": [
    "try:\n",
    "    N = 5\n",
    "    N_p = 4\n",
    "    data = numpy.empty((N, 2))\n",
    "    data[:, 0] = numpy.random.uniform(size=N)\n",
    "    data[:, 0] = numpy.linspace(0.1, 0.9, N)\n",
    "    data[:, 1] = numpy.sin(numpy.exp(-data[:, 0]**2)) + numpy.random.uniform(size=N)\n",
    "    p = compute_lstsq(data, N_p)\n",
    "except ValueError as e:\n",
    "    raise e\n",
    "else:\n",
    "    P = numpy.zeros(N)\n",
    "    for n in range(N):\n",
    "        P += p[n] * data[:, 0]**n\n",
    "    numpy.testing.assert_allclose(P, data[:, 1])\n",
    "    print(\"Success!\")\n",
    "\n",
    "    # Plot result\n",
    "    x = numpy.linspace(0.0, 1.0, 100)\n",
    "    plot_lstsq(data, x, p)\n",
    "    plt.show()"
   ]
  },
  {
   "cell_type": "code",
   "execution_count": 4,
   "metadata": {
    "nbgrader": {
     "grade": true,
     "grade_id": "T2-b",
     "locked": true,
     "points": 8,
     "solution": false
    }
   },
   "outputs": [
    {
     "name": "stdout",
     "output_type": "stream",
     "text": [
      "Success!\n"
     ]
    },
    {
     "data": {
      "image/png": "[encoded data removed]",
      "text/plain": [
       "<matplotlib.figure.Figure at 0x7f7f5a45ec50>"
      ]
     },
     "metadata": {},
     "output_type": "display_data"
    }
   ],
   "source": [
    "try:\n",
    "    N = 20\n",
    "    N_p = 4\n",
    "    data = numpy.empty((N, 2))\n",
    "    data[:, 0] = numpy.random.uniform(size=N)\n",
    "    data[:, 0] = numpy.linspace(0.1, 0.9, N)\n",
    "    data[:, 1] = numpy.sin(numpy.exp(-data[:, 0]**2)) + numpy.random.uniform(size=N)\n",
    "    p = compute_lstsq(data, N_p)\n",
    "except ValueError as e:\n",
    "    print(e)\n",
    "else:\n",
    "    A = numpy.vander(data[:,0], N_p + 1)\n",
    "    numpy.testing.assert_allclose(p, numpy.flipud(numpy.linalg.lstsq(A, data[:, 1])[0]))\n",
    "    print(\"Success!\")\n",
    "\n",
    "    # Plot result\n",
    "    x = numpy.linspace(0.0, 1.0, 100)\n",
    "    plot_lstsq(data, x, p)\n",
    "    plt.show()"
   ]
  },
  {
   "cell_type": "code",
   "execution_count": 5,
   "metadata": {
    "nbgrader": {
     "grade": true,
     "grade_id": "T2-c",
     "locked": true,
     "points": 6,
     "solution": false
    }
   },
   "outputs": [
    {
     "name": "stdout",
     "output_type": "stream",
     "text": [
      "Order should be less than number of interpolating points\n"
     ]
    }
   ],
   "source": [
    "try:\n",
    "    N = 5\n",
    "    N_p = 6\n",
    "    data = numpy.empty((N, 2))\n",
    "    data[:, 0] = numpy.random.uniform(size=N)\n",
    "    data[:, 0] = numpy.linspace(0.1, 0.9, N)\n",
    "    data[:, 1] = numpy.sin(numpy.exp(-data[:, 0]**2)) + numpy.random.uniform(size=N)\n",
    "    p = compute_lstsq(data, N_p)\n",
    "except ValueError as e:\n",
    "    print(e)\n",
    "else:\n",
    "    A = numpy.vander(data[:,0], N_p + 1)\n",
    "    numpy.testing.assert_allclose(p, numpy.flipud(numpy.linalg.lstsq(A, data[:, 1])[0]))\n",
    "    print(\"Success!\")\n",
    "\n",
    "    # Plot result\n",
    "    x = numpy.linspace(0.0, 1.0, 100)\n",
    "    plot_lstsq(data, x, p)\n",
    "    plt.show()\n",
    "    assert(False)"
   ]
  },
  {
   "cell_type": "markdown",
   "metadata": {
    "nbgrader": {
     "grade": false,
     "grade_id": "Q3",
     "locked": true,
     "solution": false
    }
   },
   "source": [
    "## Question 3\n",
    "\n",
    "Consider a square matrix that looks like\n",
    "$$\n",
    "    A = \\frac{1}{\\Delta x^2} \\begin{bmatrix}\n",
    "        -2 &  1 &  ~ &  ~ &  ~ &  ~ &  ~ \\\\\n",
    "         1 & -2 &  1 &  ~ &  ~ &  ~ &  ~ \\\\\n",
    "         ~ &  1 & -2 &  1 &  ~ &  ~ &  ~ \\\\\n",
    "         ~ &  ~ & \\ddots & \\ddots & \\ddots & ~ & ~\\\\\n",
    "         ~ &  ~ & ~ & 1 & -2 & 1 & ~ \\\\\n",
    "         ~ &  ~ & ~ & ~ & 1 & -2 & 1 \\\\\n",
    "         ~ &  ~ & ~ & ~ &  ~ & 1 & -2 \\\\\n",
    "    \\end{bmatrix}\n",
    "$$\n",
    "This matrix can be characterized as having $A_{ii} = -2$, $A_{ii-1} = A_{ii+1} = 1$ so that the \"main\" diagonal has the value -2 and the secondary-diagonals are 1 (these are the diagonals that are just above and below the main diagonal).  This matrix is from a discretization of the second derivative using a second order finite difference formula (hence the values of 1, -2, and 1 and the $\\Delta x^2$ factor) with boundary conditions set to 0.  "
   ]
  },
  {
   "cell_type": "markdown",
   "metadata": {
    "nbgrader": {
     "grade": false,
     "grade_id": "Q3-a",
     "locked": true,
     "solution": false
    }
   },
   "source": [
    "**(a)** (5 points) - Write a function that computes the eigenvalues of the matrix above using whatever functions you would like.  The function should take in the size of the matrix $m$ (the matrix should be square) and the value of $\\Delta x$ and return the eigenvalues."
   ]
  },
  {
   "cell_type": "code",
   "execution_count": 6,
   "metadata": {
    "collapsed": true,
    "nbgrader": {
     "grade": false,
     "grade_id": "A3-a",
     "locked": false,
     "solution": true
    }
   },
   "outputs": [],
   "source": [
    "def compute_eigenvalues(m, dx):\n",
    "    \"\"\"\"\"\"\n",
    "    A = numpy.zeros((m, m))\n",
    "    numpy.fill_diagonal(A, -2)\n",
    "    numpy.fill_diagonal(A[1:], 1)\n",
    "    numpy.fill_diagonal(A[:, 1:], 1)\n",
    "    A *= 1 / (dx ** 2)\n",
    "    return numpy.linalg.eigvals(A)"
   ]
  },
  {
   "cell_type": "code",
   "execution_count": 7,
   "metadata": {
    "nbgrader": {
     "grade": true,
     "grade_id": "T3-a",
     "locked": true,
     "points": 5,
     "solution": false
    },
    "scrolled": false
   },
   "outputs": [
    {
     "name": "stdout",
     "output_type": "stream",
     "text": [
      "Success!\n"
     ]
    }
   ],
   "source": [
    "# Compare against analytical values\n",
    "m = 10\n",
    "dx = 1.0 / (m + 1)\n",
    "eig_values = numpy.flipud(numpy.sort(compute_eigenvalues(m, dx)))\n",
    "p = numpy.arange(1, m + 1)\n",
    "numpy.testing.assert_allclose(eig_values,\n",
    "    2.0 / dx**2 * (numpy.cos(p * numpy.pi * dx) - 1.0))\n",
    "print(\"Success!\")"
   ]
  },
  {
   "cell_type": "markdown",
   "metadata": {
    "nbgrader": {
     "grade": false,
     "grade_id": "Q3-b",
     "locked": true,
     "solution": false
    }
   },
   "source": [
    "**(b)** (5 points) - Plot the eigenvalues in the complex plane for $m=30$ and $\\Delta x = 1/31$.  Make sure to plot the axes and label everything appropriately."
   ]
  },
  {
   "cell_type": "code",
   "execution_count": 13,
   "metadata": {
    "nbgrader": {
     "grade": true,
     "grade_id": "A3-b",
     "locked": false,
     "points": 5,
     "solution": true
    }
   },
   "outputs": [
    {
     "data": {
      "text/plain": [
       "<matplotlib.text.Text at 0x7f7f59a16e10>"
      ]
     },
     "execution_count": 13,
     "metadata": {},
     "output_type": "execute_result"
    },
    {
     "data": {
      "image/png": "[encoded data removed]",
      "text/plain": [
       "<matplotlib.figure.Figure at 0x7f7f59eafda0>"
      ]
     },
     "metadata": {},
     "output_type": "display_data"
    }
   ],
   "source": [
    "m = 31\n",
    "dx = 1/31\n",
    "eig = compute_eigenvalues(m, dx)\n",
    "plt.figure()\n",
    "plt.scatter(eig.real, eig.imag)\n",
    "plt.xlabel('real')\n",
    "plt.ylabel('imag')\n",
    "plt.title('Eigenvalues for m=30, $\\Delta x=1/31$')"
   ]
  },
  {
   "cell_type": "markdown",
   "metadata": {
    "nbgrader": {
     "grade": false,
     "grade_id": "Q3-c",
     "locked": true,
     "solution": false
    }
   },
   "source": [
    "**(c)** (10 points) - Think of the above matrix as specifying a system of ODEs.  The exact eigenvalues of the matrix are\n",
    "$$\n",
    "    \\lambda_p = \\frac{2}{\\Delta x^2} (\\cos(p \\pi \\Delta x) - 1)\n",
    "$$\n",
    "for $p = 1, \\ldots, m$.  Find an expression for $\\max_{p = 1, \\ldots, m} |\\lambda_p|$.  Based on our understanding of absolute stability what be the maximum time-step we could use for this system of ODEs if we used the forward Euler method?  What about for the backward Euler method?  How does this relate to the absolute stability regions of each method?"
   ]
  },
  {
   "cell_type": "markdown",
   "metadata": {
    "nbgrader": {
     "grade": true,
     "grade_id": "A3-c",
     "locked": false,
     "points": 10,
     "solution": true
    }
   },
   "source": [
    "$$\n",
    "\\max_{p=1,\\dots, m} |\\lambda_p| = \\max_{p=1,\\dots, m} \\left |\\frac{2}{\\Delta x^2}(cos(p\\pi\\Delta x) - 1) \\right |\n",
    "$$\n",
    "\n",
    "It is clear to see that this function is maximized when $cos(p \\pi\\Delta x)$ is minimized over p. Thus this maximization problem turns into a minimization problem. We can simplify this further by seeing that $cos(p \\pi\\Delta x)$  will be minimized when $p \\pi \\Delta x$ is closest to a mulitple of $\\pi + 2k\\pi$ where $k \\in \\mathbb{Z}^+$ as at that value of p, the cos function will be closest to it's minimum value of $-1$\n",
    "\n",
    "$$\n",
    "\\max_{p=1,\\dots, m} \\left |\\frac{2}{\\Delta x^2}(cos(p\\pi\\Delta x) - 1) \\right | = \\frac{|2|}{\\Delta x^2} \\left |cos(p\\pi\\Delta x) - 1 \\right |  \\\\ \\text{S.T.} \\min_{p=1, \\dots, m} \\left |p \\pi \\Delta x - (\\pi + 2k\\pi) \\right | k \\in \\mathbb{Z}^+ \n",
    "$$\n",
    "\n",
    "For forwards euler, we know that all eigan values must satisfy $|1+\\Delta x \\lambda| \\leq 1$. Thus the minimum timestep we could use to stay absolutly stable would be $|1+\\Delta x \\max_p \\lambda_p| \\leq 1$ or $ |1 + \\frac{|2|}{\\Delta x}|cos(p\\pi\\Delta x) - 1| \\leq 1$ with p being choosen with the same condition as above. Thus we must use dx that satisfies this condition in order to be absolutly stable as if the maximum eigenvalue fulfills this condition, then the rest of them will too. \n",
    "\n",
    "For backwards euler the region of stability is $|1-z| \\geq 1$. Since we will never have positive eigenvalues, this is true for all dx. \n",
    "\n",
    "This is related to the region of absolute stability because in order for the system to be stable, all of the eiganvalues must lie within the region of absolute stability. Since our eiganvalues are all negative and our regions are only over negative real imaginary space, we just have to make sure that the eigenvalue that is the maximum distance away from the y-axis or the maximum norm of lambda over p, lies within the region.   "
   ]
  },
  {
   "cell_type": "markdown",
   "metadata": {
    "nbgrader": {
     "grade": false,
     "grade_id": "Q4",
     "locked": true,
     "solution": false
    }
   },
   "source": [
    "## Question 4\n",
    "\n",
    "Let us further explore the connection between the unit-ball in various norms and the matrix norm.  For all these questions you can use `numpy.linalg.norm` and `numpy.dot` and can be approximations, not the exact versions of what is being asked.  For these questions be aware also that there is a time-limit for running a cell in a notebook imposed so your results should not take longer than 15-30 seconds."
   ]
  },
  {
   "cell_type": "markdown",
   "metadata": {
    "nbgrader": {
     "grade": false,
     "grade_id": "Q4-a",
     "locked": true,
     "solution": false
    }
   },
   "source": [
    "**(a)** (10) Write a function that given a particular norm plots the given unit-ball in $\\mathbb R^2$.  You may use `numpy.linalg.norm`.  Use the test code to verify your results noting that there may be some special cases that need to be handled."
   ]
  },
  {
   "cell_type": "code",
   "execution_count": 9,
   "metadata": {
    "collapsed": true,
    "nbgrader": {
     "grade": true,
     "grade_id": "A4-a",
     "locked": false,
     "points": 10,
     "solution": true
    }
   },
   "outputs": [],
   "source": [
    "def approx_unit_ball(num_points, ord):\n",
    "    \"\"\"\n",
    "    Approximate the unit ball in R^2 with given number or points\n",
    "    and order. Generates num_points random vectors and then\n",
    "    normalizes them with the given norm\n",
    "    \n",
    "    \"\"\"\n",
    "    p = numpy.random.randn(num_points, 2)\n",
    "    return numpy.array([v / numpy.linalg.norm(v, ord) for v in p])\n",
    "\n",
    "def unit_ball(axes, ord):\n",
    "    \"\"\"Plot the unit-ball in $\\mathbb R^2$ with order ord\n",
    "    \n",
    "    :Input:\n",
    "     - *axes* (matplotlib.axes) Axes to plot the ball on\n",
    "     - *ord* (float) The norm requested.\n",
    "    \"\"\"\n",
    "    p = approx_unit_ball(50000, ord)\n",
    "    axes.scatter(p[:, 0], p[:, 1])\n",
    "    axes.grid(True)\n"
   ]
  },
  {
   "cell_type": "code",
   "execution_count": 10,
   "metadata": {
    "nbgrader": {
     "grade": false,
     "grade_id": "T4-a",
     "locked": true,
     "solution": false
    }
   },
   "outputs": [
    {
     "data": {
      "image/png": "[encoded data removed]",
      "text/plain": [
       "<matplotlib.figure.Figure at 0x7f7f5a2bd9b0>"
      ]
     },
     "metadata": {},
     "output_type": "display_data"
    }
   ],
   "source": [
    "fig = plt.figure()\n",
    "fig.set_figwidth(fig.get_figwidth() * 3)\n",
    "fig.set_figheight(fig.get_figheight() * 3)\n",
    "norms = [1.0 / 3.0, 0.5, 4.0 / 5.0, 1, 1.3, 1.5, 1.75, 2, 4, 9, 16, numpy.infty]\n",
    "titles = [\"1/3-norm\", \"1/2-norm\", \"4/5-norm\", \"1-norm\", \"4/3-norm\", \"3/2-norm\", \"7/4-norm\", \n",
    "          \"2-norm\", \"$2^2$-norm\", \"$3^2$-norm\", \"$4^2$-norm\", \"$\\infty$-norm\"]\n",
    "for (i, ord) in enumerate(norms):\n",
    "    axes = fig.add_subplot(3, 4, i + 1, aspect='equal')\n",
    "    unit_ball(axes, ord)\n",
    "    axes.set_title(titles[i])\n",
    "plt.show()"
   ]
  },
  {
   "cell_type": "markdown",
   "metadata": {
    "nbgrader": {
     "grade": false,
     "grade_id": "Q4-b",
     "locked": true,
     "solution": false
    }
   },
   "source": [
    "**(b)** (15) Now write a function that produces a plot of the image of the unit-ball given a matrix $A$ and returns the resulting matrix norm.  Both of these can be estimates of the norm but mind the time it takes to compute them.  You can also use `numpy.linalg.norm` for vectors but **NOT** the matrix (unless you want to check your answer)."
   ]
  },
  {
   "cell_type": "code",
   "execution_count": 11,
   "metadata": {
    "collapsed": true,
    "nbgrader": {
     "grade": true,
     "grade_id": "A4-b",
     "locked": false,
     "points": 15,
     "solution": true
    }
   },
   "outputs": [],
   "source": [
    "def approx_unit_ball(num_points, ord):\n",
    "    \"\"\"\n",
    "    Approximate the unit ball in R^2 with given number or points\n",
    "    and order. Generates num_points random vectors and then\n",
    "    normalizes them with the given norm\n",
    "    \n",
    "    \"\"\"\n",
    "    p = numpy.random.randn(num_points, 2)\n",
    "    return numpy.array([v / numpy.linalg.norm(v, ord) for v in p])\n",
    "\n",
    "\n",
    "def unit_ball_image(axes, A, ord):\n",
    "    \"\"\"\n",
    "    Plot the unit-ball in $\\mathbb R^2$ with order ord\n",
    "    under transformation A\n",
    "    \n",
    "    Returns an approximation of the matrix norm of A\n",
    "    for given order by norming maximizing the\n",
    "    norm ||Ax||_ord over ||x||_ord = 1\n",
    "    \n",
    "    :Input:\n",
    "     - *axes* (matplotlib.axes) Axes to plot the ball on\n",
    "     - *A* (numpy.ndarray) The transformation to apply\n",
    "     - *ord* (float) The norm requested.\n",
    "\n",
    "    \"\"\"\n",
    "    # Approximate the unit ball\n",
    "    p = approx_unit_ball(50000, ord)\n",
    "    \n",
    "    # Apply the transformation A\n",
    "    trans = (A @ p.T).T\n",
    "    \n",
    "    # Plot\n",
    "    axes.scatter(trans[:, 0], trans[:, 1])\n",
    "    axes.grid(True)\n",
    "    \n",
    "    # Return the vector norm\n",
    "    return numpy.max(numpy.array([numpy.linalg.norm(A @ v, ord) for v in p]))"
   ]
  },
  {
   "cell_type": "code",
   "execution_count": 12,
   "metadata": {
    "nbgrader": {
     "grade": false,
     "grade_id": "T4-b",
     "locked": true,
     "solution": false
    }
   },
   "outputs": [
    {
     "name": "stdout",
     "output_type": "stream",
     "text": [
      "0.5-Norm (estimated, true): (7.90191652546, N/A)\n",
      "1-Norm (estimated, true): (4.0, 4.0)\n",
      "1.5-Norm (estimated, true): (4.06660153641, N/A)\n",
      "2-Norm (estimated, true): (4.13064858319, 4.13064858688)\n",
      "4-Norm (estimated, true): (4.34889330918, N/A)\n",
      "9-Norm (estimated, true): (4.6455988422, N/A)\n",
      "16-Norm (estimated, true): (4.79451444919, N/A)\n",
      "inf-Norm (estimated, true): (4.999797668, 5.0)\n"
     ]
    },
    {
     "data": {
      "image/png": "[encoded data removed]",
      "text/plain": [
       "<matplotlib.figure.Figure at 0x7f7f5a2b6d68>"
      ]
     },
     "metadata": {},
     "output_type": "display_data"
    }
   ],
   "source": [
    "A = numpy.array([[1, 2], [3, 2]])\n",
    "\n",
    "fig = plt.figure()\n",
    "fig.set_figwidth(fig.get_figwidth() * 3)\n",
    "fig.set_figheight(fig.get_figheight() * 3)\n",
    "norms = [0.5, 1, 1.5, 2, 4, 9, 16, numpy.infty]\n",
    "titles = [\"1/2-norm\", \"1-norm\", \"3/2-norm\", \"2-norm\", \n",
    "          \"$2^2$-norm\", \"$3^2$-norm\", \"$4^2$-norm\", \"$\\infty$-norm\"]\n",
    "for (i, ord) in enumerate(norms):\n",
    "    axes = fig.add_subplot(2, 4, i + 1, aspect='equal')\n",
    "    try:\n",
    "        print(\"%s-Norm (estimated, true): (%s, %s)\" % (ord, unit_ball_image(axes, A, ord), numpy.linalg.norm(A, ord=ord)))\n",
    "    except ValueError:\n",
    "        print(\"%s-Norm (estimated, true): (%s, N/A)\" % (ord, unit_ball_image(axes, A, ord)))\n",
    "    axes.set_title(titles[i])\n",
    "plt.show()"
   ]
  },
  {
   "cell_type": "markdown",
   "metadata": {
    "nbgrader": {
     "grade": false,
     "grade_id": "Q4-c",
     "locked": true,
     "solution": false
    }
   },
   "source": [
    "**(c)** (5) What kind of observations can you make based on the two previous questions?  What connection to geometry do you see?  Are the matrix norms requested in part (b) that do not have a `numpy` implementation actually norms?"
   ]
  },
  {
   "cell_type": "markdown",
   "metadata": {
    "nbgrader": {
     "grade": true,
     "grade_id": "A4-c",
     "locked": false,
     "points": 5,
     "solution": true
    }
   },
   "source": [
    "For the first problem, as the norm increases, the edges of the 4 pointed star push out until we reach the infinity norm, which is the limit of this pushing out to a square with side length 1. For the second problem, we see much the same behavior except the square has been squashed into a parallelogram. Now we are pushing from an elipse with rounded in top and bottom to a parallelogram. The geometrical interpretation of the matrix norm we calculate is that it will be the p-norm of vector with maximum norm on the edge shape we plotted for each norm. These are still norms, but since they are hard to calculate exactly and not as useful, they do not have an implementation in numpy."
   ]
  }
 ],
 "metadata": {
  "celltoolbar": "Create Assignment",
  "kernelspec": {
   "display_name": "Python 3",
   "language": "python",
   "name": "python3"
  },
  "language_info": {
   "codemirror_mode": {
    "name": "ipython",
    "version": 3
   },
   "file_extension": ".py",
   "mimetype": "text/x-python",
   "name": "python",
   "nbconvert_exporter": "python",
   "pygments_lexer": "ipython3",
   "version": "3.5.2"
  },
  "latex_envs": {
   "bibliofile": "biblio.bib",
   "cite_by": "apalike",
   "current_citInitial": 1,
   "eqLabelWithNumbers": true,
   "eqNumInitial": 0
  }
 },
 "nbformat": 4,
 "nbformat_minor": 2
}
