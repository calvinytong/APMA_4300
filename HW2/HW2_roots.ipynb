{
 "cells": [
  {
   "cell_type": "code",
   "execution_count": 1,
   "metadata": {
    "collapsed": true,
    "nbgrader": {
     "grade": false,
     "grade_id": "header1",
     "locked": false,
     "solution": false
    }
   },
   "outputs": [],
   "source": [
    "%matplotlib inline\n",
    "from __future__ import print_function\n",
    "import numpy\n",
    "import matplotlib.pyplot as plt"
   ]
  },
  {
   "cell_type": "markdown",
   "metadata": {
    "nbgrader": {
     "grade": false,
     "grade_id": "header2",
     "locked": true,
     "solution": false
    }
   },
   "source": [
    "Before you turn this problem in, make sure everything runs as expected. First, restart the kernel (in the menubar, select Kernel $\\rightarrow$ Restart) and then run all cells (in the menubar, select Cell $\\rightarrow$ Run All).\n",
    "\n",
    "Make sure you fill in any place that says YOUR CODE HERE or \"YOUR ANSWER HERE\", as well as your name and collaborators below:"
   ]
  },
  {
   "cell_type": "markdown",
   "metadata": {
    "nbgrader": {
     "grade": false,
     "grade_id": "header3",
     "locked": true,
     "solution": false
    }
   },
   "source": [
    "# HW 2:  Root Finding and Optimization"
   ]
  },
  {
   "cell_type": "markdown",
   "metadata": {
    "nbgrader": {
     "grade": false,
     "grade_id": "Q1",
     "locked": true,
     "schema_version": 1,
     "solution": false
    }
   },
   "source": [
    "## Question 1 - Inverse Quadratic Interpolation\n",
    "\n",
    "Let us see if we can extend the idea of the secant method to a higher order version.  The idea then is to take 3 values of the function such that $(x_0, f(x_0))$, $(x_1, f(x_1))$, and $(x_2, f(x_2))$ and fit an inverse quadratic function through these points (note that this requires that $f(x_i) \\neq f(x_j) \\forall i \\neq j$).  The inverse function can be written as\n",
    "$$\n",
    "    g(y) = x_2 + \\frac{(y - f(x_1)) (y - f(x_2))(x_0 - x_2)}{(f(x_0) - f(x_1))(f(x_0) - f(x_2))} + \\frac{(y - f(x_0)) (y - f(x_2))(x_1 - x_2)}{(f(x_1) - f(x_0))(f(x_1) - f(x_2))}\n",
    "$$\n",
    "Inverse quadratic interpolation is one of the core components of many root solvers in libraries such as `numpy`.\n",
    "\n",
    "Using this new function answer the following questions."
   ]
  },
  {
   "cell_type": "markdown",
   "metadata": {
    "nbgrader": {
     "grade": false,
     "grade_id": "Q1-a",
     "locked": true,
     "schema_version": 1,
     "solution": false
    }
   },
   "source": [
    "**(a)** (10 points) Find the x-intercept of the function $g(y)$ and use this to find the iteration scheme of the form\n",
    "$$\n",
    "    x_{n+1} = x_n + \\phi(x_n, x_{n-1}, x_{n-2})\n",
    "$$\n",
    "where $\\phi(x_n, x_{n-1}, x_{n-2})$ can also contain evaluations of the original function $f(x)$."
   ]
  },
  {
   "cell_type": "markdown",
   "metadata": {
    "nbgrader": {
     "grade": false,
     "grade_id": "Q1",
     "locked": true,
     "schema_version": 1,
     "solution": false
    }
   },
   "source": [
    "Substitute $y = 0$ into the equation\n",
    "$$\n",
    "\\begin{align}\n",
    "g(y) = x_2 + \\frac{f(x_1)f(x_2)(x_0 - x_2)}{(f(x_0) - f(x_1))(f(x_0) - f(x_2))} + \\frac{f(x_0) f(x_2)(x_1 - x_2)}{(f(x_1) - f(x_0))(f(x_1) - f(x_2))}\n",
    "\\end{align}\n",
    "$$\n",
    "\n",
    "If we take our $x_0, x_1, x_2$ to be our values of $x_{n-2}, x_{n-1}, x_n$ respectivly, we can find the recurrence relation for this scheme.\n",
    "\n",
    "$$\n",
    "x_{n+1} = x_n + \\frac{f(x_{n-1})f(x_n)}{(f(x_{n-2}) - f(x_{n-1}))(f(x_{n-2}) - f(x_n))}(x_{n-2} - x_n) + \\frac{f(x_{n-2}) f(x_n)}{(f(x_{n-1}) - f(x_{n-2}))(f(x_{n-1}) - f(x_n))}(x_{n-1} - x_n)\n",
    "$$"
   ]
  },
  {
   "cell_type": "markdown",
   "metadata": {
    "nbgrader": {
     "grade": false,
     "grade_id": "Q1-c",
     "locked": true,
     "schema_version": 1,
     "solution": false
    }
   },
   "source": [
    "**(b)** (10 points) Write a function that implements the inverse quadratic interpolation root finding method which takes in a function $f$ and an initial triplet for an initial guess $(x_0, x_1, x_2)$.  Make sure that it handles the case when the maximum number of steps is taken."
   ]
  },
  {
   "cell_type": "code",
   "execution_count": 2,
   "metadata": {
    "collapsed": true,
    "nbgrader": {
     "grade": false,
     "grade_id": "A1-b",
     "locked": false,
     "schema_version": 1,
     "solution": true
    }
   },
   "outputs": [],
   "source": [
    "from collections import deque\n",
    "\n",
    "def inv_quad_root(f, x, tolerance=1e-4, max_steps=100):\n",
    "    \"\"\"Find a root of f(x) using inverse quadratic interpolation\n",
    "    \n",
    "    :Input:\n",
    "     - *f* (func) Function to find the root of.\n",
    "     - *x* (list) A triplet of values to be used to start the method.  Note\n",
    "       that the triplet starts with the x_0 value and ends with the x_2 value\n",
    "       in terms of the iteration scheme.\n",
    "     - *tolerance* (float) Tolerance used as a stopping criteria with \n",
    "       |f(x_n)| < tolerance.\n",
    "     - *max_steps* (int) Maximum number of steps allowed.  Raise an exception\n",
    "       if max_steps are reached.\n",
    "    :Output:\n",
    "     - (float) Converged root.\n",
    "    \"\"\"\n",
    "    \n",
    "    # Use deque for easy index flipping\n",
    "    x = deque(x)\n",
    "    steps = 0\n",
    "    while x[2] > tolerance and steps < max_steps:\n",
    "        # Calculate the coef for the x_{n-2} - x_n term\n",
    "        coefn2 = (f(x[1]) * f(x[2])) / ((f(x[0]) - f(x[1])) * (f(x[0]) - f(x[2])))\n",
    "        \n",
    "        # Calculate the coef for the x_{n-1} - x_n term\n",
    "        coefn1 = (f(x[0]) * f(x[2])) / ((f(x[1]) - f(x[0])) * (f(x[1]) - f(x[2])))\n",
    "        \n",
    "        # Calculate the new x_n term\n",
    "        new_term = x[2] + coefn2 * (x[0] - x[2]) + coefn1 * (x[1] - x[2])\n",
    "        \n",
    "        # Pop the oldest term and add the new term\n",
    "        x.popleft()\n",
    "        x.append(new_term)\n",
    "        \n",
    "        # Keep track of the steps\n",
    "        steps += 1\n",
    "    return x[2]"
   ]
  },
  {
   "cell_type": "code",
   "execution_count": 3,
   "metadata": {
    "nbgrader": {
     "grade": true,
     "grade_id": "T1-b",
     "locked": true,
     "points": 10,
     "schema_version": 1,
     "solution": false
    }
   },
   "outputs": [
    {
     "name": "stdout",
     "output_type": "stream",
     "text": [
      "Found root = 0.08985602483469936\n",
      "Success!\n"
     ]
    }
   ],
   "source": [
    "P = 1500.0\n",
    "m = 12\n",
    "n = 20.0\n",
    "A = 1e6\n",
    "f = lambda r, A=A, m=m, P=P, n=n: A - m * P / r * ((1.0 + r / m)**(m * n) - 1.0)\n",
    "root = inv_quad_root(f, [0.06, 0.07, 0.08], tolerance=1e-6, max_steps=10)\n",
    "print(\"Found root = %s\" % root)\n",
    "numpy.testing.assert_allclose(root, 0.08985602483470391, atol=1e-5)\n",
    "print(\"Success!\")"
   ]
  },
  {
   "cell_type": "markdown",
   "metadata": {
    "nbgrader": {
     "grade": false,
     "grade_id": "Q2",
     "locked": true,
     "solution": false
    }
   },
   "source": [
    "## Question 2 - Bessel Function Zeros\n",
    "\n",
    "The zeros of the Bessel functions $J_0(x)$ can be important for a number of applications.  Considering only $x \\geq 0$ \n",
    "we are going to find the first ten zeros of $J_0(x)$ by using a hybrid approach."
   ]
  },
  {
   "cell_type": "markdown",
   "metadata": {
    "nbgrader": {
     "grade": false,
     "grade_id": "Q2-a",
     "locked": true,
     "solution": false
    }
   },
   "source": [
    "**(a)** (5 points) Plot the Bessel function $J_0(x)$ and its zeros on the same plot.  Note that the module `scipy.special` contains functions dealing with the Bessel functions (`jn`)."
   ]
  },
  {
   "cell_type": "code",
   "execution_count": 4,
   "metadata": {
    "nbgrader": {
     "grade": true,
     "grade_id": "A2-a",
     "locked": false,
     "points": 5,
     "solution": true
    }
   },
   "outputs": [
    {
     "data": {
      "text/plain": [
       "<matplotlib.text.Text at 0x7fa38f496eb8>"
      ]
     },
     "execution_count": 4,
     "metadata": {},
     "output_type": "execute_result"
    },
    {
     "data": {
      "image/png": "[encoded data removed]",
      "text/plain": [
       "<matplotlib.figure.Figure at 0x7fa38f5eba20>"
      ]
     },
     "metadata": {},
     "output_type": "display_data"
    }
   ],
   "source": [
    "from scipy.special import j0, jn_zeros\n",
    "\n",
    "x = numpy.linspace(0, 33)\n",
    "plt.figure(figsize=(15,10))\n",
    "zeros = plt.scatter(jn_zeros(0, 10), numpy.zeros(10), color='red')\n",
    "bessel, = plt.plot(x, j0(x))\n",
    "plt.legend([zeros, bessel], ['zeros', 'j0'])\n",
    "plt.title('j0 and its 0s')\n",
    "plt.xlabel('x')\n",
    "plt.ylabel('y')"
   ]
  },
  {
   "cell_type": "markdown",
   "metadata": {
    "nbgrader": {
     "grade": false,
     "grade_id": "Q2-b",
     "locked": true,
     "solution": false
    }
   },
   "source": [
    "**(b)** (15 points) Now write a function `j0_zeros` that takes two tolerances, a bracket size tolerance `bracket_tolerance` and `tolerance` for the final convergence tolerance.  Given an initial bracket, the function should perform secant iterations until the bracket size is less than `bracket_tolerance`.  If this is successful then proceed with Newton's method using the newest value of the bracket until `tolerance` is reached.  Return both the zero found and the number of steps needed in each iteration.  Also write a `doc-string` for the function.\n",
    "\n",
    "Notes:\n",
    " - Newton's method by itself does not work here given the initial brackets provided.\n",
    " - The secant method does work however it is slower than the approach outlined.\n",
    " - Try playing a bit yourself with the tolerances used."
   ]
  },
  {
   "cell_type": "code",
   "execution_count": 5,
   "metadata": {
    "collapsed": true,
    "nbgrader": {
     "grade": false,
     "grade_id": "A2-b",
     "locked": false,
     "solution": true
    }
   },
   "outputs": [],
   "source": [
    "import scipy.special\n",
    "from scipy.special import j0, jvp\n",
    "\n",
    "def j0_zeros(x0, bracket_tolerance, tolerance):\n",
    "    \"\"\"\n",
    "    Find the 0 within a given bracket for the j0 bezel function.\n",
    "    Starts by applying the secant method until the bracket_tolerance\n",
    "    is reached at which point it switches to newtons method\n",
    "    until the tolerance is reached\n",
    "    \n",
    "    Parameters\n",
    "    ----------\n",
    "    x0: list\n",
    "        The bracket to find the max between\n",
    "    bracket_tolerance: float\n",
    "        The minimum bracket size before switching to newtons method\n",
    "    tolerance: float\n",
    "        The mimimum bracket size before returning the value\n",
    "        \n",
    "    Returns\n",
    "    -------\n",
    "    (x, num steps): tuple\n",
    "        x: The value of x where j0 has a zero. \n",
    "        y : The number of steps of each method [secant, newtons]\n",
    "        \n",
    "    \"\"\"\n",
    "    num_steps = [0, 0]\n",
    "    f = lambda x: j0(x)\n",
    "    \n",
    "    x_1 = x0[0]\n",
    "    x_2 = x0[1]\n",
    "    f_1 = f(x_1)\n",
    "    f_2 = f(x_2)\n",
    "    x = 3\n",
    "    # Begin with secant method\n",
    "    while(abs(x_2 - x_1) > bracket_tolerance):\n",
    "        # Calculate the next term\n",
    "        x = x_2 - f_2 * ((x_2 - x_1) / (f_2 - f_1))\n",
    "        num_steps[0] += 1\n",
    "        \n",
    "        # Check to see if we are done\n",
    "        if abs(f(x)) < tolerance:\n",
    "            return x, num_steps\n",
    "        \n",
    "        # Update f terms\n",
    "        x_1 = x_2\n",
    "        x_2 = x\n",
    "        f_1 = f(x_1)\n",
    "        f_2 = f(x_2)\n",
    "\n",
    "    \n",
    "    # If we are not done continue to newton's method\n",
    "    f_prime = lambda x: jvp(0, x)\n",
    "    while(abs(f(x)) > tolerance):\n",
    "        x = x - f(x) / f_prime(x)\n",
    "        num_steps[1] += 1\n",
    "\n",
    "    return x, num_steps"
   ]
  },
  {
   "cell_type": "code",
   "execution_count": 6,
   "metadata": {
    "nbgrader": {
     "grade": true,
     "grade_id": "T2-b",
     "locked": true,
     "points": 15,
     "solution": false
    }
   },
   "outputs": [
    {
     "name": "stdout",
     "output_type": "stream",
     "text": [
      "2.4048255577 [2, 3]\n",
      "5.52007811029 [4, 2]\n",
      "8.65372791291 [2, 3]\n",
      "11.791534439 [3, 2]\n",
      "14.9309177085 [2, 2]\n",
      "18.0710639679 [2, 2]\n",
      "21.2116366299 [3, 2]\n",
      "24.3524715307 [4, 2]\n",
      "27.493479132 [2, 3]\n",
      "30.6346064684 [3, 2]\n",
      "Success!\n"
     ]
    }
   ],
   "source": [
    "brackets = [[ 2.0,  3.0], [ 4.0,  7.0], [ 7.0, 10.0], [10.0, 12.0], \n",
    "            [13.0, 15.0], [17.0, 19.0], [19.0, 22.0], \n",
    "            [22.0, 26.0], [26.0, 29.0], [29.0, 32.0]]\n",
    "\n",
    "zero = []\n",
    "for bracket in brackets:\n",
    "    x, num_steps = j0_zeros(bracket, 1e-1, 1e-15)\n",
    "    print(x, num_steps)\n",
    "    zero.append(x)\n",
    "numpy.testing.assert_allclose(zero, scipy.special.jn_zeros(0, 10), rtol=1e-14)\n",
    "print(\"Success!\")"
   ]
  },
  {
   "cell_type": "markdown",
   "metadata": {
    "nbgrader": {
     "grade": false,
     "grade_id": "Q3",
     "locked": true,
     "solution": false
    }
   },
   "source": [
    "## Question 3 - Newton's Method Convergence\n",
    "\n",
    "Recall that Newton's method converges as\n",
    "\n",
    "$$|\\epsilon_{n+1}| = \\frac{|f''(c)|}{2 |f'(x_n)|} |\\epsilon_n|^2$$\n",
    "\n",
    "with $\\epsilon_n = x_n - x^*$ where $x^*$ is the true solution and $c$ is between $x_n$ and $x^*$."
   ]
  },
  {
   "cell_type": "markdown",
   "metadata": {
    "nbgrader": {
     "grade": false,
     "grade_id": "Q3-a",
     "locked": true,
     "solution": false
    }
   },
   "source": [
    "**(a)** (10 points) Show that the Newton iteration when $f(x) = x^2 - M$ with $M > 0$ is\n",
    "\n",
    "$$x_{n+1} = \\frac{1}{2} \\left (x_n + \\frac{M}{x_n} \\right )$$"
   ]
  },
  {
   "cell_type": "markdown",
   "metadata": {
    "nbgrader": {
     "grade": true,
     "grade_id": "A3-a",
     "locked": false,
     "points": 10,
     "solution": true
    }
   },
   "source": [
    "A Newton's method step is defined $x_{n+1} = x_n - \\frac{f(x_n)}{f'(x_n)}$ so we simply plug and push to the given form\n",
    "\n",
    "$$\n",
    "\\begin{align}\n",
    "x_{n+1} &= x_n - \\frac{f(x_n)}{f'(x_n)} \\\\\n",
    "&= x_n - \\frac{x_n^2 - M}{2x_n} \\\\\n",
    "&= x_n - \\frac{x_n}{2} + \\frac{M}{2x_n} \\\\\n",
    "&= \\frac{1}{2}x_n + \\frac{1}{2}\\frac{M}{x_n} \\\\\n",
    "&= \\frac{1}{2}(x_n + \\frac{M}{x_n})\n",
    "\\end{align}\n",
    "$$"
   ]
  },
  {
   "cell_type": "markdown",
   "metadata": {
    "collapsed": true,
    "nbgrader": {
     "grade": false,
     "grade_id": "Q3-b",
     "locked": true,
     "solution": false
    }
   },
   "source": [
    "**(b)** (10 points) From this update scheme show that \n",
    "\n",
    "$$\\frac{x_{n+1} - \\sqrt{M}}{(x_n - \\sqrt{M})^2} = \\frac{1}{2 x_n}$$"
   ]
  },
  {
   "cell_type": "markdown",
   "metadata": {
    "nbgrader": {
     "grade": true,
     "grade_id": "A3-b",
     "locked": false,
     "points": 10,
     "solution": true
    }
   },
   "source": [
    "$$\n",
    "\\begin{align}\n",
    "\\frac{x_{n+1} - \\sqrt{M}}{(x_n - \\sqrt{M})^2} &= \\frac{\\frac{1}{2}(x_n + \\frac{M}{x_n}) - \\sqrt{M}}{(x_n - \\sqrt{M})^2} \\\\\n",
    "  &= \\frac{\\frac{x_n}{2} + \\frac{M}{2x_n} - \\sqrt{M}}{(x_n - \\sqrt{M})^2} \\\\\n",
    "&= \\frac{\\frac{1}{2x_n}(x_n^2 + M - 2x_n\\sqrt{M})}{(x_n - \\sqrt{M})^2} \\\\\n",
    "&= \\frac{\\frac{1}{2x_n}(x_n - \\sqrt{M})^2}{(x_n - \\sqrt{M})^2} \\\\\n",
    "&= \\frac{1}{2x_n}\n",
    "\\end{align}\n",
    "$$\n"
   ]
  },
  {
   "cell_type": "markdown",
   "metadata": {
    "nbgrader": {
     "grade": false,
     "grade_id": "Q3-c",
     "locked": true,
     "solution": false
    }
   },
   "source": [
    "**(c)** (10 points) Confirm that the asymptotic error convergence matches the general convergence for Newton's method."
   ]
  },
  {
   "cell_type": "markdown",
   "metadata": {
    "nbgrader": {
     "grade": true,
     "grade_id": "A3-c",
     "locked": false,
     "points": 10,
     "solution": true
    }
   },
   "source": [
    "We first show that the function matches our general case and converges quadratically. In part (a) we found $x_{n+1} = g(x_n) = \\frac{1}{2}(x_n + \\frac{M}{x_n})$ and we can use this specific g(x) to show that we converge quadratically. Note that we set $ x_{n+1} = x^* + \\epsilon_{n+1}$ and $x_n = x^* + \\epsilon_n$ where $x^*$ is the true solution where $f(x^*) = 0$.\n",
    "\n",
    "\n",
    "We begin by deriving an expression for $\\epsilon_{n+1}$ by using a taylor expansion\n",
    "$$\n",
    "\\begin{align}\n",
    "x^* + \\epsilon_{n+1} &= g(x^* + \\epsilon_n) = g(x^*) + g'(x^*)\\epsilon_n + \\frac{g''(x^*)\\epsilon_n^2}{2!} + O(\\epsilon_n^3)\\\\\n",
    "\\epsilon_{n+1} &= g(x^*) - x^* + g'(x^*)\\epsilon_n + \\frac{g''(x^*)\\epsilon_n^2}{2!} + O(\\epsilon_n^3)\\\\\n",
    "\\end{align}\n",
    "$$\n",
    "\n",
    "Now we show that the terms $g(x^*) - x^*$ and $g'(x^*)\\epsilon_n$ go to 0.\n",
    "\n",
    "\n",
    "For the $g(x^*) - x^*$ term, we know that, since $f(x^*) = 0$ by definition, $M - {x^*}^2 = 0$. We can then use this fact to show the term vanishes.\n",
    "\n",
    "$$\n",
    "\\begin{align}\n",
    "g(x^*) - x^* &= \\frac{1}{2}(x^* + \\frac{M}{x^*}) - x^* \\\\\n",
    "&= \\frac{{x^*}^2 + M}{2x^*} - x^* \\\\\n",
    "&= \\frac{{x^*}^2 + M - 2{x^*}^2}{2x^*} \\\\\n",
    "&= \\frac{M - {x^*}^2}{2x^*} \\\\\n",
    "&= \\frac{0}{2x^*} \\\\\n",
    "&= 0\n",
    "\\end{align}\n",
    "$$\n",
    "\n",
    "For the $g'(x^*)\\epsilon_n$ term, again since $f(x^*) = 0$, We can derive the relationship $\\frac{M}{{x^*}^2} = 1$. Again we use this to show that the term vanishes.\n",
    "\n",
    "$$\n",
    "\\begin{align}\n",
    "g'(x^*) &= \\frac{1}{2}(1 - \\frac{M}{{x^*}^2}) \\\\\n",
    "&= \\frac{1}{2}(1 - 1) \\\\\n",
    "&= 0\n",
    "\\end{align}\n",
    "$$\n",
    "\n",
    "\n",
    "Now all that is left is to show that  $\\frac{g''(x^*)}{2!}$ does not vanish\n",
    "$$\n",
    "\\begin{align}\n",
    "\\frac{g''(x^*)}{2!} &= \\frac{M}{2{x^*}^3}\n",
    "\\end{align}\n",
    "$$\n",
    "\n",
    "Which we can clearly non 0, so we are left with the relationship:\n",
    "$$\n",
    "\\epsilon_{n+1} = \\frac{g''(x^*)}{2!}\\epsilon_n^2 + O(\\epsilon_n^3)\\\\\n",
    "$$\n",
    "\n",
    "Which matches the quadratic convergence of our general expression.\n",
    "\n",
    "Next we show that the coefficient for rate of convergence matches the general case. By definition, for a quadratically converging iterative method the asymptotic error constant is calculated.\n",
    "\n",
    "$$\n",
    "lim_{x\\to\\infty}\\frac{|x_{n+1} - x^*|}{|x_n - x^*|^2}\n",
    "$$\n",
    "\n",
    "We can see that this matches what we found in part (b) without the absolute values as $x^* = \\sqrt M$. Thus our calculated asymptotic error constant is $$\\frac{1}{2|x_n|}$$ Now we check that this matches our general form by differentiating f(x) and sticking those values into our general form.\n",
    "\n",
    "$$\n",
    "\\begin{align}\n",
    "f(x) &= x^2 + M \\\\\n",
    "f'(x) &= 2x \\\\\n",
    "f''(x) &= 2\n",
    "\\end{align}\n",
    "$$\n",
    "\n",
    "$$\n",
    "\\frac{|f''(c)|}{2|f'(x_n)|} = \\frac{2}{2|2x_n|} = \\frac{1}{2|x_n|}\n",
    "$$\n",
    "\n",
    "So our derived coefficient matches our general coefficient."
   ]
  },
  {
   "cell_type": "markdown",
   "metadata": {
    "nbgrader": {
     "grade": false,
     "grade_id": "Q4",
     "locked": true,
     "solution": false
    }
   },
   "source": [
    "## Question 4 - Optimization of a Data Series\n",
    "\n",
    "For the following questions we are given a set of data $(t_0, y_0), (t_1, y_1), \\ldots, (t_N, y_N)$."
   ]
  },
  {
   "cell_type": "markdown",
   "metadata": {
    "nbgrader": {
     "grade": false,
     "grade_id": "Q4-a",
     "locked": true,
     "solution": false
    }
   },
   "source": [
    "**(a)** (15 points) Write a function that takes in the data series $(t_i, y_i)$ and finds the value at a point $t_\\ast$ by constructing the equation of the line between the two data points that bound $t_\\ast$ and evaluating the resulting function at $t_\\ast$.\n",
    "\n",
    "Hints:\n",
    " - Make sure to handle the case that $t_\\ast = t_i$.\n",
    " - If $t_\\ast < t_0$ or $t_\\ast > t_N$ then return the corresponding value $y_0$ or $y_N$.\n",
    " - If you write your function so that $t_\\ast$ can be an array you can use the plotting code in the cell.  Otherwise just delete it."
   ]
  },
  {
   "cell_type": "code",
   "execution_count": 7,
   "metadata": {
    "nbgrader": {
     "grade": false,
     "grade_id": "A4-a",
     "locked": false,
     "solution": true
    }
   },
   "outputs": [
    {
     "data": {
      "image/png": "[encoded data removed]",
      "text/plain": [
       "<matplotlib.figure.Figure at 0x7fa34f8b5208>"
      ]
     },
     "metadata": {},
     "output_type": "display_data"
    }
   ],
   "source": [
    "def linear_eval(t, y, t_star):\n",
    "    \"\"\"Use a piece-wise linear reconstruction to evaluate a guess at what t_star is\n",
    "    \n",
    "    Let y_i = f(t_i), using a linear function between the data points (t_i, y_i)\n",
    "    as an estimate for f(t_star).\n",
    "    \n",
    "    :Input:\n",
    "     - *t* (numpy.ndarray) Interpolant points.\n",
    "     - *y* (numpy.ndarray) Function evaluation as interpolant points.\n",
    "     - *t_star* (numpy.ndarray) Points to evaluate the interpolant at.\n",
    "    \n",
    "    :Output:\n",
    "     - (numpy.ndarray) Corresponding P(t_star) where P is the new approximated\n",
    "       function.\n",
    "    \"\"\"\n",
    "    \n",
    "    # If a float is passed then turn it into a numpy array\n",
    "    if type(t_star) is float:\n",
    "        t_star = numpy.array([t_star])\n",
    "    \n",
    "    y_star = numpy.zeros(numpy.shape(t_star))\n",
    "    \n",
    "    for idx, t_val in enumerate(t_star):\n",
    "        # Check if the t_star value is outside t\n",
    "        if t_val <= t[0]:\n",
    "            y_star[idx] = y[0]\n",
    "            continue\n",
    "        elif t_val >= t[-1]:\n",
    "            y_star[idx] = y[-1]\n",
    "            continue\n",
    "        \n",
    "        # Find the value closest to the t_star value\n",
    "        min_idx = numpy.argmin(numpy.abs(t - t_val))\n",
    "\n",
    "        # Assume in order t list. Evaluate the 3 possible\n",
    "        # cases for the minimum value and then use numpy.interp\n",
    "        if t[min_idx] == t_val:\n",
    "            # Case where t_star is in the list\n",
    "            y_star[idx] = y[min_idx]\n",
    "        elif t[min_idx - 1] < t_val < t[min_idx]:\n",
    "            # Case where t_star is closet to the value on its left\n",
    "            y_star[idx] = numpy.interp(\n",
    "                t_val, t[min_idx - 1 : min_idx + 1], \n",
    "                y[min_idx - 1 : min_idx + 1])\n",
    "        elif t[min_idx] < t_val < t[min_idx + 1]:\n",
    "            # Case where t_star is closet to the value on its right\n",
    "            y_star[idx] = numpy.interp(\n",
    "                t_val, t[min_idx : min_idx + 2], \n",
    "                y[min_idx : min_idx + 2])   \n",
    "        else:\n",
    "            raise ValueError(\"t array must be in order\")\n",
    "    return y_star\n",
    "\n",
    "N = 20\n",
    "t_fine = numpy.linspace(-numpy.pi, numpy.pi, 100)\n",
    "t_rand = numpy.random.rand(N + 1) * (2.0 * numpy.pi) - numpy.pi\n",
    "t_rand.sort()\n",
    "f = lambda x: numpy.sin(x) * numpy.cos(x)\n",
    "\n",
    "fig = plt.figure()\n",
    "fig.set_figwidth(fig.get_figwidth()*1.5)\n",
    "axes = fig.add_subplot(1, 1, 1)\n",
    "axes.plot(t_fine, f(t_fine), 'k-', label=\"True\")\n",
    "axes.plot(t_rand, f(t_rand), 'og', label=\"Sample Data\")\n",
    "axes.plot(t_fine, linear_eval(t_rand, f(t_rand), t_fine), 'xb', label=\"linear_eval\")\n",
    "axes.set_xlim((-numpy.pi, numpy.pi))\n",
    "axes.set_title(\"Demo Plot\")\n",
    "axes.set_xlabel('$t$')\n",
    "axes.set_ylabel('$f(t)$')\n",
    "axes.legend()\n",
    "plt.show()"
   ]
  },
  {
   "cell_type": "code",
   "execution_count": 8,
   "metadata": {
    "nbgrader": {
     "grade": true,
     "grade_id": "T4-a",
     "locked": true,
     "points": 15,
     "solution": false
    }
   },
   "outputs": [
    {
     "name": "stdout",
     "output_type": "stream",
     "text": [
      "Computed solution: [ 0.42073549]\n",
      "True solution: 0.420735492404\n",
      "Success!\n"
     ]
    }
   ],
   "source": [
    "N = 100\n",
    "f = lambda x: numpy.sin(x) * numpy.cos(x)\n",
    "t = numpy.linspace(-1, 1, N + 1)\n",
    "t_star = 0.5\n",
    "answer = linear_eval(t, f(t), t_star)\n",
    "if isinstance(answer, list):\n",
    "    answer = answer[0]\n",
    "print(\"Computed solution: %s\" % answer)\n",
    "print(\"True solution: %s\" % f(t_star))\n",
    "numpy.testing.assert_almost_equal(answer, f(t_star), verbose=True, decimal=7)\n",
    "print(\"Success!\")"
   ]
  },
  {
   "cell_type": "markdown",
   "metadata": {
    "nbgrader": {
     "grade": false,
     "grade_id": "Q4-b",
     "locked": true,
     "solution": false
    }
   },
   "source": [
    "**(b)** (10 points) Using the function you wrote in part (a) write a function that uses Golden search to find the maximum of a series of data.  Again you can use the plotting code available if your `linear_eval` function from part (a) handles arrays."
   ]
  },
  {
   "cell_type": "code",
   "execution_count": 9,
   "metadata": {
    "nbgrader": {
     "grade": false,
     "grade_id": "A4-b",
     "locked": false,
     "solution": true
    }
   },
   "outputs": [
    {
     "data": {
      "image/png": "[encoded data removed]",
      "text/plain": [
       "<matplotlib.figure.Figure at 0x7fa34fb5cf28>"
      ]
     },
     "metadata": {},
     "output_type": "display_data"
    }
   ],
   "source": [
    "from scipy.constants import golden\n",
    "\n",
    "def golden_search(bracket, t, y, max_steps=100, tolerance=1e-4):\n",
    "    \"\"\"\n",
    "    Maximize a series of data using the golden search algorithm. Uses linear interpolation\n",
    "    to interpolate between points in the time series. Preforms the algorithm until\n",
    "    the bracket is smaller than the tolerance or the maximum number of steps has been reached.\n",
    "    Assumes the function is well behaved in the given bracket, but will not raise if it\n",
    "    is not.\n",
    "    \n",
    "    Parameters\n",
    "    ----------\n",
    "    bracket: list of floats\n",
    "        Original bracket to search in form [lower, upper]\n",
    "    t: list of floats\n",
    "        The timeseries to maximize\n",
    "    y: list of floats\n",
    "        The function values at each of the time points\n",
    "    max_steps: opt int\n",
    "        The maximum number of times to run the algorithm\n",
    "    tolerance: opt float\n",
    "        The minimum bracket size before returning\n",
    "    \n",
    "    Returns\n",
    "    -------\n",
    "    float: The value of t where y is maximized\n",
    "    \n",
    "    \"\"\"\n",
    "    \n",
    "    # Here we set f as our linear interpolator\n",
    "    f = lambda x: linear_eval(t, y, x)\n",
    "    \n",
    "    # bracket lower bound\n",
    "    bl = bracket[0]\n",
    "    \n",
    "    # bracket upper bound\n",
    "    bu = bracket[1]\n",
    "    \n",
    "    # search points lower bound\n",
    "    xl = bu - (bu - bl) / golden\n",
    "\n",
    "    # search points upper bound\n",
    "    xu = bl + (bu - bl) / golden\n",
    "    \n",
    "    steps = 0\n",
    "    while numpy.abs(bu - bl) > tolerance and steps < max_steps:\n",
    "        # This condition is switched from class as we are now maximizing\n",
    "        if f(xl) > f(xu):\n",
    "            # Move upper bound to search upper\n",
    "            bu = xu\n",
    "        else:\n",
    "            # Move lower bound to search lower\n",
    "            bl = xl\n",
    "        \n",
    "        # Recalculate the search points\n",
    "        xl = bu - (bu - bl) / golden\n",
    "        xu  = bl + (bu - bl) / golden\n",
    "        steps += 1\n",
    "        \n",
    "    # Return the bracket midpoint\n",
    "    return (bu + bl) / 2\n",
    "\n",
    "N = 50\n",
    "t = numpy.random.rand(N + 1) * (2.0 * numpy.pi) - numpy.pi\n",
    "t.sort()\n",
    "y = numpy.sin(t) * numpy.cos(t)\n",
    "t_star = golden_search([0.1, 3.0 * numpy.pi / 4.0], t, y)\n",
    "t_true = numpy.pi / 4.0\n",
    "\n",
    "fig = plt.figure()\n",
    "axes = fig.add_subplot(1, 1, 1)\n",
    "\n",
    "axes.plot(t, y, 'x', label=\"data\")\n",
    "t_fine = numpy.linspace(-numpy.pi, numpy.pi, 100)\n",
    "axes.plot(t_fine, numpy.sin(t_fine) * numpy.cos(t_fine), 'k', label=\"$f(x)$\")\n",
    "axes.plot(t_star, linear_eval(t, y, t_star), 'go')\n",
    "axes.plot(t_true, numpy.sin(t_true) * numpy.cos(t_true), 'ko', label=\"True\")\n",
    "axes.set_xlim((0.0, numpy.pi / 2.0))\n",
    "axes.set_ylim((0.0, 1.0))\n",
    "plt.show()"
   ]
  },
  {
   "cell_type": "code",
   "execution_count": 10,
   "metadata": {
    "nbgrader": {
     "grade": true,
     "grade_id": "T4-b",
     "locked": true,
     "points": 10,
     "solution": false
    }
   },
   "outputs": [
    {
     "name": "stdout",
     "output_type": "stream",
     "text": [
      "Error: 0.0110372272071, 0.0140530341443\n",
      "Success!\n"
     ]
    }
   ],
   "source": [
    "N = 100\n",
    "t = numpy.random.rand(N + 1) * (2.0 * numpy.pi) - numpy.pi\n",
    "t.sort()\n",
    "y = numpy.sin(t) * numpy.cos(t)\n",
    "t_star = golden_search([0.1, 3.0 * numpy.pi / 4.0], t, y)\n",
    "t_true = numpy.pi / 4.0\n",
    "abs_error = numpy.abs(t_star - t_true)\n",
    "rel_error = numpy.abs(t_star - t_true) / numpy.abs(t_true)\n",
    "print(\"Error: %s, %s\" % (abs_error, rel_error))\n",
    "numpy.testing.assert_allclose(abs_error, 0.0, rtol=1e-1, atol=1e-1)\n",
    "print(\"Success!\")"
   ]
  },
  {
   "cell_type": "markdown",
   "metadata": {
    "collapsed": true,
    "nbgrader": {
     "grade": false,
     "grade_id": "Q4-c",
     "locked": true,
     "solution": false
    }
   },
   "source": [
    "**(c)** (5 points) Below is sample code that plots the number of sample points $N$ vs. the relative error.  Note because we are sampling at random points that we do each $N$ 6 times and average the relative error to reduce noise.  Additionally a line is drawn representing what would be linear (1st order) convergence.\n",
    "\n",
    "Modify this code and try it out on other problems.  Do you continue to see linear convergence?  What about if you change how we sample points?  Make sure that you change your initial interval and range of values of $t$ inside the loop."
   ]
  },
  {
   "cell_type": "code",
   "execution_count": 11,
   "metadata": {
    "nbgrader": {
     "grade": true,
     "grade_id": "A4-c1",
     "locked": false,
     "points": 3,
     "schema_version": 1,
     "solution": true
    }
   },
   "outputs": [
    {
     "data": {
      "image/png": "[encoded data removed]",
      "text/plain": [
       "<matplotlib.figure.Figure at 0x7fa34fa73a58>"
      ]
     },
     "metadata": {},
     "output_type": "display_data"
    },
    {
     "data": {
      "image/png": "[encoded data removed]",
      "text/plain": [
       "<matplotlib.figure.Figure at 0x7fa34fa30ac8>"
      ]
     },
     "metadata": {},
     "output_type": "display_data"
    },
    {
     "data": {
      "image/png": "[encoded data removed]",
      "text/plain": [
       "<matplotlib.figure.Figure at 0x7fa34f99a128>"
      ]
     },
     "metadata": {},
     "output_type": "display_data"
    },
    {
     "data": {
      "image/png": "[encoded data removed]",
      "text/plain": [
       "<matplotlib.figure.Figure at 0x7fa34f978fd0>"
      ]
     },
     "metadata": {},
     "output_type": "display_data"
    }
   ],
   "source": [
    "# Global N_range\n",
    "N_range = numpy.array([2**n for n in range(4, 10)], dtype=int)\n",
    "\n",
    "def gen_rel_error(f, t_range, search_bounds, t_true, normal_smpl):\n",
    "    \"\"\"\n",
    "    Generate a relitive error for given test parameters. There are two ways \n",
    "    this function can sample t. The first is random sampling over the range of t.\n",
    "    The second is sampling 90% of t within +/- 0.0001 percent of the true value.\n",
    "    This behavior is controled by the normal_smpl flag. It runs each trial\n",
    "    6 times and averages the results\n",
    "    \n",
    "    Parameter\n",
    "    ---------\n",
    "    f: func\n",
    "        The function we are maximizing\n",
    "    t_range: list\n",
    "        The range of t values to sample [t_lower, t_upper]\n",
    "    search_bounds: list\n",
    "        The bounds we are searching for the max in [search_lower, search_upper]\n",
    "    t_true: float\n",
    "        The true value of t we are looking for\n",
    "    normal_smpl: bool\n",
    "        Flag indicating whether to sample normally. If true, randomly sample within the t_range. If false we sample\n",
    "        90% of the points within +/- 0.0001 of the true value\n",
    "        \n",
    "    Returns\n",
    "    -------\n",
    "    rel_error: float\n",
    "        The average relative error\n",
    "        \n",
    "    \"\"\"\n",
    "    rel_error = numpy.zeros(len(N_range))\n",
    "    for (i, N) in enumerate(N_range):\n",
    "            for j in range(6):\n",
    "                if normal_smpl:\n",
    "                    t = numpy.random.uniform(low=t_range[0], high=t_range[1], size=(N+1,))\n",
    "                    t.sort()\n",
    "                else:\n",
    "                    # Percent of points sampled +/- sample range of the true value\n",
    "                    mid_percent = 0.9\n",
    "                    \n",
    "                    # +/- range of true from sampling\n",
    "                    smpl_range = 0.0001\n",
    "                    \n",
    "                    # Sample the points and then concat them\n",
    "                    ul_percent = (1 - mid_percent) / 2\n",
    "                    t_u = numpy.random.uniform(\n",
    "                        low=t_true + smpl_range, high=t_range[1], size=(int(N * ul_percent),))\n",
    "                    t_m = numpy.random.uniform(\n",
    "                        low=t_true - smpl_range, high=t_true + smpl_range, size=(int(N * mid_percent),))\n",
    "                    t_l = numpy.random.uniform(\n",
    "                        low=t_range[0], high=t_true - smpl_range, size=(int(N * ul_percent),))\n",
    "                    t = numpy.unique(numpy.concatenate((t_l, t_m, t_u), axis=0))\n",
    "                    \n",
    "                y = f(t)\n",
    "                t_star = golden_search(search_bounds, t, y)\n",
    "                rel_error[i] += numpy.abs(t_star - t_true) / numpy.abs(t_true)\n",
    "            rel_error[i] /= 6\n",
    "    return rel_error    \n",
    "\n",
    "# Parameters for different test trials\n",
    "\n",
    "# sin(t)cos(t) random sampling\n",
    "f_1 = (lambda t: numpy.sin(t) * numpy.cos(t), \n",
    "       [-numpy.pi, numpy.pi], \n",
    "       [0.1, 3.0 * numpy.pi / 4.0], \n",
    "       numpy.pi / 4.0, \n",
    "       True)\n",
    "\n",
    "# sin(t)cos(t) dense sampling\n",
    "f_1_cs = (lambda t: numpy.sin(t) * numpy.cos(t), \n",
    "           [-numpy.pi, numpy.pi], \n",
    "           [0.1, 3.0 * numpy.pi / 4.0], \n",
    "           numpy.pi / 4.0, \n",
    "           False)\n",
    "\n",
    "# -(t-1.1)^2 random sampling\n",
    "f_2 = (lambda t:-(t-1.1)**2,\n",
    "           [-5, 5], \n",
    "           [0, 2], \n",
    "           1.1, \n",
    "           True)\n",
    "\n",
    "\n",
    "\n",
    "# -(t-1.1) dense sampling\n",
    "f_2_cs = (lambda t:-(t-1.1)**2,\n",
    "           [-5, 5], \n",
    "           [0, 2], \n",
    "           1.1, \n",
    "           False)\n",
    "\n",
    "# Get errors for each of the trials\n",
    "rel_errors = []\n",
    "f_list = [f_1, f_1_cs, f_2, f_2_cs]\n",
    "for f, t_range, search_bounds, t_true, normal_smpl in f_list:\n",
    "    rel_errors.append(gen_rel_error(f, t_range, search_bounds, t_true, normal_smpl))\n",
    "\n",
    "# Plot the results\n",
    "titles = ['Random Sampling: y = sin(t) + cos(t)', 'Dense Sampling: y = sin(t) + cos(t)', \n",
    "         'Random Sampling: y = -(t-1)^2', 'Dense Sampling: y = -(t-1)^2']\n",
    "for name, rel_error in zip(titles, rel_errors):\n",
    "    order_C = lambda N, error, order: numpy.exp(numpy.log(error) - order * numpy.log(N))    \n",
    "    fig = plt.figure()\n",
    "    plt.title(name)\n",
    "    axes = fig.add_subplot(1, 1, 1)\n",
    "    axes.loglog(N_range, rel_error, 'ko', label=\"Ave. Error\")\n",
    "    axes.loglog(N_range, order_C(N_range[0], rel_error[0], -1.0) * N_range**(-1.0), 'r', label=\"1st order\")\n",
    "    axes.loglog(N_range, order_C(N_range[0], rel_error[0], -2.0) * N_range**(-2.0), 'b', label=\"2nd Order\")\n",
    "    axes.set_xlabel(\"N\")\n",
    "    axes.set_ylabel(\"Relative Error\")\n",
    "    axes.legend()\n"
   ]
  },
  {
   "cell_type": "markdown",
   "metadata": {
    "nbgrader": {
     "grade": true,
     "grade_id": "A4-c2",
     "locked": false,
     "points": 2,
     "solution": true
    }
   },
   "source": [
    "   Since we are finding the maximum with piecewise interpolation, all we are really doing is finding the maximum value of y given the values of t. Thus if we sample densely around the true value and loosly for the rest of the t range, we can see much faster than linear convergence. This is because, since there are more points clustered around the true value of t, we can be assured that value very close to the true t will be sampled. Here we show this by running the function on randomly sampled points followed by running it on points where 90% of the points are sampled within +/-0.0001 of the true value. When we do this dense sampling we see much quicker convergence than the randomly sampled points."
   ]
  }
 ],
 "metadata": {
  "celltoolbar": "Create Assignment",
  "kernelspec": {
   "display_name": "Python 3",
   "language": "python",
   "name": "python3"
  },
  "language_info": {
   "codemirror_mode": {
    "name": "ipython",
    "version": 3
   },
   "file_extension": ".py",
   "mimetype": "text/x-python",
   "name": "python",
   "nbconvert_exporter": "python",
   "pygments_lexer": "ipython3",
   "version": "3.5.2"
  }
 },
 "nbformat": 4,
 "nbformat_minor": 1
}
